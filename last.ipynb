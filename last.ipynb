{
  "nbformat": 4,
  "nbformat_minor": 0,
  "metadata": {
    "colab": {
      "name": "ossppl_project_template.ipynb의 사본",
      "provenance": [],
      "collapsed_sections": [
        "NUD-hySm_uPc"
      ],
      "toc_visible": true,
      "include_colab_link": true
    },
    "kernelspec": {
      "name": "python3",
      "display_name": "Python 3"
    }
  },
  "cells": [
    {
      "cell_type": "markdown",
      "metadata": {
        "id": "view-in-github",
        "colab_type": "text"
      },
      "source": [
        "<a href=\"https://colab.research.google.com/github/harrywinks/2019_cau_oss_hackathon/blob/master/last.ipynb\" target=\"_parent\"><img src=\"https://colab.research.google.com/assets/colab-badge.svg\" alt=\"Open In Colab\"/></a>"
      ]
    },
    {
      "cell_type": "markdown",
      "metadata": {
        "id": "NUD-hySm_uPc"
      },
      "source": [
        "# **Open Source SW and Python Programming Project: Implementation of Subway Navigation**\n",
        "\n",
        "In this project, you will implement a navigation system for Seoul subway stations, especially **step by step**\n",
        "\n",
        "\n"
      ]
    },
    {
      "cell_type": "markdown",
      "metadata": {
        "id": "uUsnepoeAhVl"
      },
      "source": [
        "# 0. Initialization\n",
        "\n",
        "Read subway station information by reading the file **simplified_subway_info_english.xlsx** or **simplified_subway_info_korean.xlsx**\n",
        "*  The excel file contains subway station information of Seoul subway line 1 ~ 4\n",
        "*  When you execute this sourcecode, you MUST upload these files in your Colab runtime environment\n",
        "*   **MUST NOT** change this code cell"
      ]
    },
    {
      "cell_type": "code",
      "metadata": {
        "id": "qnbOlA6o_mIl"
      },
      "source": [
        "import xlrd\n",
        "\n",
        "# Read data file\n",
        "data = xlrd.open_workbook(\"simplified_subway_info_english.xlsx\")\n",
        "data = data.sheet_by_name('Sheet1')\n",
        "\n",
        "# Store the loaded book object as a string list in subwayStation variable\n",
        "subwayStation = {}\n",
        "for line in range(4) :\n",
        "    cur = [x for x in data.col_values(line) if x]  \n",
        "    strTemp='Line'+str(line+1)\n",
        "    subwayStation[strTemp]=tuple(cur[1:])\n",
        "#     subwayStation.append(cur[1:])\n",
        "# subway1\n",
        "# subwayStation=['Line1':subway1,'Line2':subway2,'Line3':subway3]\n"
      ],
      "execution_count": 1,
      "outputs": []
    },
    {
      "cell_type": "markdown",
      "metadata": {
        "id": "IidO4bv7E8Hy"
      },
      "source": [
        "# 새 섹션"
      ]
    },
    {
      "cell_type": "markdown",
      "metadata": {
        "id": "DBXU61Tn_vKS"
      },
      "source": [
        "# 1. Your implementation\n",
        "Let's start the implementation of a subway naviation system by using the loaded subway station information :)\n",
        "\n",
        "*   You can access the subway station information by referring to **subwayStation** variable (list type)"
      ]
    },
    {
      "cell_type": "code",
      "metadata": {
        "id": "7h-scy6AI8Re",
        "colab": {
          "base_uri": "https://localhost:8080/"
        },
        "outputId": "c46486fb-bf9e-4e79-f8b8-2844586fa3d4"
      },
      "source": [
        "subwayStation"
      ],
      "execution_count": 91,
      "outputs": [
        {
          "output_type": "execute_result",
          "data": {
            "text/plain": [
              "{'Line1': ('Soyosan',\n",
              "  'Dongducheon',\n",
              "  'Bosan',\n",
              "  'Dongducheon jungang',\n",
              "  'Jihaeng',\n",
              "  'Deokjeong',\n",
              "  'Deokgye',\n",
              "  'Yangju',\n",
              "  'Nogyang',\n",
              "  'Ganeung',\n",
              "  'Uijeongbu',\n",
              "  'Hoeryong',\n",
              "  'Mangwolsa',\n",
              "  'Dobongsan',\n",
              "  'Dobong',\n",
              "  'Banghak',\n",
              "  'Chang-dong',\n",
              "  'Nokcheon',\n",
              "  'Wolgye',\n",
              "  'Kwangwoon Univ.',\n",
              "  'Seokgye',\n",
              "  'Sinimun',\n",
              "  'Hankuk Univ. of Foreign Studies',\n",
              "  'Hoegi',\n",
              "  'Cheongnyangni',\n",
              "  'Jegi-dong',\n",
              "  'Sinseol-dong',\n",
              "  'Dongmyo',\n",
              "  'Dongdaemun',\n",
              "  'Jongno 5(o)-ga',\n",
              "  'Jongno 3(sam)-ga',\n",
              "  'Jonggak',\n",
              "  'City Hall',\n",
              "  'Seoul Station',\n",
              "  'Namyeong',\n",
              "  'Yongsan',\n",
              "  'Noryangjin',\n",
              "  'Daebang',\n",
              "  'Singil',\n",
              "  'Yeongdeungpo',\n",
              "  'Sindorim',\n",
              "  'Guro',\n",
              "  'Guil',\n",
              "  'Gaebong',\n",
              "  'Oryu-dong',\n",
              "  'Onsu',\n",
              "  'Yeokgok',\n",
              "  'Sosa',\n",
              "  'Bucheon',\n",
              "  'Jung-dong',\n",
              "  'Songnae',\n",
              "  'Bugae',\n",
              "  'Bupyeong',\n",
              "  'Baegun',\n",
              "  'Dongam',\n",
              "  'Ganseok',\n",
              "  'Juan',\n",
              "  'Dohwa',\n",
              "  'Jemulpo',\n",
              "  'Dowon',\n",
              "  'Dongincheon',\n",
              "  'Incheon'),\n",
              " 'Line2': ('Sindorim',\n",
              "  'Daerim',\n",
              "  'Guro Digital Complex',\n",
              "  'Sindaebang',\n",
              "  'Sillim',\n",
              "  'Bongcheon',\n",
              "  'Seoul Nat`l Univ.',\n",
              "  'Nakseongdae',\n",
              "  'Sadang',\n",
              "  'Bangbae',\n",
              "  'Seocho',\n",
              "  'Seoul Nat`l Univ. of Education',\n",
              "  'Gangnam',\n",
              "  'Yeoksam',\n",
              "  'Seolleung',\n",
              "  'Samseong',\n",
              "  'Sports Complex',\n",
              "  'Jamsilsaenae Station',\n",
              "  'Jamsil',\n",
              "  'Jamsillaru',\n",
              "  'Gangbyeon',\n",
              "  'Guui',\n",
              "  'Konkuk Univ.',\n",
              "  'Seongsu',\n",
              "  'Ttukseom',\n",
              "  'Hanyang Univ.',\n",
              "  'Wangsimni',\n",
              "  'Sangwangsimni',\n",
              "  'Sindang',\n",
              "  'Dongdaemun History  Culture Park',\n",
              "  'Euljiro 4(sa)-ga',\n",
              "  'Euljiro 3(sam)-ga',\n",
              "  'Euljiro 1(il)-ga',\n",
              "  'City Hall',\n",
              "  'Chungjeongno',\n",
              "  'Ahyeon',\n",
              "  'Ewha Womans Univ.',\n",
              "  'Sinchon',\n",
              "  'Hongik Univ.',\n",
              "  'Hapjeong',\n",
              "  'Dangsan',\n",
              "  'Yeongdeungpo-gu Office',\n",
              "  'Mullae'),\n",
              " 'Line3': ('Daehwa',\n",
              "  'Juyeop',\n",
              "  'Jeongbalsan',\n",
              "  'Madu',\n",
              "  'Baekseok',\n",
              "  'Daegok',\n",
              "  'Hwajeong',\n",
              "  'Wondang',\n",
              "  'Wonheung',\n",
              "  'Samsong',\n",
              "  'Jichuk',\n",
              "  'Gupabal',\n",
              "  'Yeonsinnae',\n",
              "  'Bulgwang',\n",
              "  'Nokbeon',\n",
              "  'Hongje',\n",
              "  'Muakjae',\n",
              "  'Dongnimmun',\n",
              "  'Gyeongbokgung',\n",
              "  'Anguk',\n",
              "  'Jongno 3(sam)-ga',\n",
              "  'Euljiro 3(sam)-ga',\n",
              "  'Chungmuro',\n",
              "  'Dongguk Univ.',\n",
              "  'Yaksu',\n",
              "  'Geumho',\n",
              "  'Oksu',\n",
              "  'Apgujeong',\n",
              "  'Sinsa',\n",
              "  'Jamwon',\n",
              "  'Express Bus Terminal',\n",
              "  'Seoul Nat`l Univ. of Education',\n",
              "  'Nambu Bus Terminal',\n",
              "  'Yangjae',\n",
              "  'Maebong',\n",
              "  'Dogok',\n",
              "  'Daechi',\n",
              "  'Hangnyeoul',\n",
              "  'Daecheong',\n",
              "  'Irwon',\n",
              "  'Suseo',\n",
              "  'Garak Market',\n",
              "  'National Police Hospital',\n",
              "  'Ogeum'),\n",
              " 'Line4': ('Danggogae',\n",
              "  'Sanggye',\n",
              "  'Nowon',\n",
              "  'Chang-dong',\n",
              "  'Ssangmun',\n",
              "  'Suyu',\n",
              "  'Mia',\n",
              "  'Miasamgeori',\n",
              "  'Gireum',\n",
              "  'Sungshin Women`s Univ.',\n",
              "  'Hansung Univ.',\n",
              "  'Hyehwa',\n",
              "  'Dongdaemun',\n",
              "  'Dongdaemun History  Culture Park',\n",
              "  'Chungmuro',\n",
              "  'Myeong-dong',\n",
              "  'Hoehyeon',\n",
              "  'Seoul Station',\n",
              "  'Sookmyung Women`s Univ.',\n",
              "  'Samgakji',\n",
              "  'Sinyongsan',\n",
              "  'Ichon',\n",
              "  'Dongjak',\n",
              "  'Chongshin Univ.',\n",
              "  'Sadang',\n",
              "  'Namtaeryeong',\n",
              "  'Seonbawi',\n",
              "  'Seoul Racecourse Park',\n",
              "  'Seoul Grand Park',\n",
              "  'Gwacheon',\n",
              "  'Government Complex Gwacheon',\n",
              "  'Indeogwon',\n",
              "  'Pyeongchon',\n",
              "  'Beomgye',\n",
              "  'Geumjeong',\n",
              "  'Sanbon',\n",
              "  'Surisan',\n",
              "  'Daeyami',\n",
              "  'Banwol',\n",
              "  'Sangnoksu',\n",
              "  'Hanyang Univ. at Ansan',\n",
              "  'Jungang',\n",
              "  'Gojan',\n",
              "  'Choji',\n",
              "  'Ansan',\n",
              "  'Singil oncheon',\n",
              "  'Jeongwang',\n",
              "  'Oido')}"
            ]
          },
          "metadata": {
            "tags": []
          },
          "execution_count": 91
        }
      ]
    },
    {
      "cell_type": "markdown",
      "metadata": {
        "id": "QQRTEZgfnawL"
      },
      "source": [
        "Requirement1. change to dictionary 그리고 key value찍어보기 "
      ]
    },
    {
      "cell_type": "code",
      "metadata": {
        "colab": {
          "base_uri": "https://localhost:8080/"
        },
        "id": "7sVKHrennYtY",
        "outputId": "e95150ab-701d-44fb-8d3f-5b1fbef31628"
      },
      "source": [
        "for key in subwayStation.keys():\n",
        "  print(key)\n",
        "for value in subwayStation.values():\n",
        "  print(value)"
      ],
      "execution_count": 177,
      "outputs": [
        {
          "output_type": "stream",
          "text": [
            "Line1\n",
            "Line2\n",
            "Line3\n",
            "Line4\n",
            "('Soyosan', 'Dongducheon', 'Bosan', 'Dongducheon jungang', 'Jihaeng', 'Deokjeong', 'Deokgye', 'Yangju', 'Nogyang', 'Ganeung', 'Uijeongbu', 'Hoeryong', 'Mangwolsa', 'Dobongsan', 'Dobong', 'Banghak', 'Chang-dong', 'Nokcheon', 'Wolgye', 'Kwangwoon Univ.', 'Seokgye', 'Sinimun', 'Hankuk Univ. of Foreign Studies', 'Hoegi', 'Cheongnyangni', 'Jegi-dong', 'Sinseol-dong', 'Dongmyo', 'Dongdaemun', 'Jongno 5(o)-ga', 'Jongno 3(sam)-ga', 'Jonggak', 'City Hall', 'Seoul Station', 'Namyeong', 'Yongsan', 'Noryangjin', 'Daebang', 'Singil', 'Yeongdeungpo', 'Sindorim', 'Guro', 'Guil', 'Gaebong', 'Oryu-dong', 'Onsu', 'Yeokgok', 'Sosa', 'Bucheon', 'Jung-dong', 'Songnae', 'Bugae', 'Bupyeong', 'Baegun', 'Dongam', 'Ganseok', 'Juan', 'Dohwa', 'Jemulpo', 'Dowon', 'Dongincheon', 'Incheon')\n",
            "('Sindorim', 'Daerim', 'Guro Digital Complex', 'Sindaebang', 'Sillim', 'Bongcheon', 'Seoul Nat`l Univ.', 'Nakseongdae', 'Sadang', 'Bangbae', 'Seocho', 'Seoul Nat`l Univ. of Education', 'Gangnam', 'Yeoksam', 'Seolleung', 'Samseong', 'Sports Complex', 'Jamsilsaenae Station', 'Jamsil', 'Jamsillaru', 'Gangbyeon', 'Guui', 'Konkuk Univ.', 'Seongsu', 'Ttukseom', 'Hanyang Univ.', 'Wangsimni', 'Sangwangsimni', 'Sindang', 'Dongdaemun History  Culture Park', 'Euljiro 4(sa)-ga', 'Euljiro 3(sam)-ga', 'Euljiro 1(il)-ga', 'City Hall', 'Chungjeongno', 'Ahyeon', 'Ewha Womans Univ.', 'Sinchon', 'Hongik Univ.', 'Hapjeong', 'Dangsan', 'Yeongdeungpo-gu Office', 'Mullae')\n",
            "('Daehwa', 'Juyeop', 'Jeongbalsan', 'Madu', 'Baekseok', 'Daegok', 'Hwajeong', 'Wondang', 'Wonheung', 'Samsong', 'Jichuk', 'Gupabal', 'Yeonsinnae', 'Bulgwang', 'Nokbeon', 'Hongje', 'Muakjae', 'Dongnimmun', 'Gyeongbokgung', 'Anguk', 'Jongno 3(sam)-ga', 'Euljiro 3(sam)-ga', 'Chungmuro', 'Dongguk Univ.', 'Yaksu', 'Geumho', 'Oksu', 'Apgujeong', 'Sinsa', 'Jamwon', 'Express Bus Terminal', 'Seoul Nat`l Univ. of Education', 'Nambu Bus Terminal', 'Yangjae', 'Maebong', 'Dogok', 'Daechi', 'Hangnyeoul', 'Daecheong', 'Irwon', 'Suseo', 'Garak Market', 'National Police Hospital', 'Ogeum')\n",
            "('Danggogae', 'Sanggye', 'Nowon', 'Chang-dong', 'Ssangmun', 'Suyu', 'Mia', 'Miasamgeori', 'Gireum', 'Sungshin Women`s Univ.', 'Hansung Univ.', 'Hyehwa', 'Dongdaemun', 'Dongdaemun History  Culture Park', 'Chungmuro', 'Myeong-dong', 'Hoehyeon', 'Seoul Station', 'Sookmyung Women`s Univ.', 'Samgakji', 'Sinyongsan', 'Ichon', 'Dongjak', 'Chongshin Univ.', 'Sadang', 'Namtaeryeong', 'Seonbawi', 'Seoul Racecourse Park', 'Seoul Grand Park', 'Gwacheon', 'Government Complex Gwacheon', 'Indeogwon', 'Pyeongchon', 'Beomgye', 'Geumjeong', 'Sanbon', 'Surisan', 'Daeyami', 'Banwol', 'Sangnoksu', 'Hanyang Univ. at Ansan', 'Jungang', 'Gojan', 'Choji', 'Ansan', 'Singil oncheon', 'Jeongwang', 'Oido')\n"
          ],
          "name": "stdout"
        }
      ]
    },
    {
      "cell_type": "code",
      "metadata": {
        "id": "IpIhoaH-i7Ch"
      },
      "source": [
        "def append_value(dict_obj,key,value):\n",
        "    if key in dict_obj:\n",
        "        if not isinstance(dict_obj[key],list):\n",
        "            dict_obj[key]=[dict_obj[key]]\n",
        "        dict_obj[key].append(value)\n",
        "    else:\n",
        "        dict_obj[key]=value\n",
        "\n",
        "def setDict(stationDict):\n",
        "    for key,value in subwayStation.items():\n",
        "        print(key,value)\n",
        "        for val in value:\n",
        "            append_value(stationDict,val,key)\n",
        "    return stationDict"
      ],
      "execution_count": 2,
      "outputs": []
    },
    {
      "cell_type": "code",
      "metadata": {
        "colab": {
          "base_uri": "https://localhost:8080/"
        },
        "id": "cp6YP1j9j_nk",
        "outputId": "8bd72905-6100-41e1-8a8a-56b7ed6ec7b9"
      },
      "source": [
        "stationDict={}\n",
        "setDict(stationDict)"
      ],
      "execution_count": 23,
      "outputs": [
        {
          "output_type": "stream",
          "text": [
            "Line1 ('Soyosan', 'Dongducheon', 'Bosan', 'Dongducheon jungang', 'Jihaeng', 'Deokjeong', 'Deokgye', 'Yangju', 'Nogyang', 'Ganeung', 'Uijeongbu', 'Hoeryong', 'Mangwolsa', 'Dobongsan', 'Dobong', 'Banghak', 'Chang-dong', 'Nokcheon', 'Wolgye', 'Kwangwoon Univ.', 'Seokgye', 'Sinimun', 'Hankuk Univ. of Foreign Studies', 'Hoegi', 'Cheongnyangni', 'Jegi-dong', 'Sinseol-dong', 'Dongmyo', 'Dongdaemun', 'Jongno 5(o)-ga', 'Jongno 3(sam)-ga', 'Jonggak', 'City Hall', 'Seoul Station', 'Namyeong', 'Yongsan', 'Noryangjin', 'Daebang', 'Singil', 'Yeongdeungpo', 'Sindorim', 'Guro', 'Guil', 'Gaebong', 'Oryu-dong', 'Onsu', 'Yeokgok', 'Sosa', 'Bucheon', 'Jung-dong', 'Songnae', 'Bugae', 'Bupyeong', 'Baegun', 'Dongam', 'Ganseok', 'Juan', 'Dohwa', 'Jemulpo', 'Dowon', 'Dongincheon', 'Incheon')\n",
            "Line2 ('Sindorim', 'Daerim', 'Guro Digital Complex', 'Sindaebang', 'Sillim', 'Bongcheon', 'Seoul Nat`l Univ.', 'Nakseongdae', 'Sadang', 'Bangbae', 'Seocho', 'Seoul Nat`l Univ. of Education', 'Gangnam', 'Yeoksam', 'Seolleung', 'Samseong', 'Sports Complex', 'Jamsilsaenae Station', 'Jamsil', 'Jamsillaru', 'Gangbyeon', 'Guui', 'Konkuk Univ.', 'Seongsu', 'Ttukseom', 'Hanyang Univ.', 'Wangsimni', 'Sangwangsimni', 'Sindang', 'Dongdaemun History  Culture Park', 'Euljiro 4(sa)-ga', 'Euljiro 3(sam)-ga', 'Euljiro 1(il)-ga', 'City Hall', 'Chungjeongno', 'Ahyeon', 'Ewha Womans Univ.', 'Sinchon', 'Hongik Univ.', 'Hapjeong', 'Dangsan', 'Yeongdeungpo-gu Office', 'Mullae')\n",
            "Line3 ('Daehwa', 'Juyeop', 'Jeongbalsan', 'Madu', 'Baekseok', 'Daegok', 'Hwajeong', 'Wondang', 'Wonheung', 'Samsong', 'Jichuk', 'Gupabal', 'Yeonsinnae', 'Bulgwang', 'Nokbeon', 'Hongje', 'Muakjae', 'Dongnimmun', 'Gyeongbokgung', 'Anguk', 'Jongno 3(sam)-ga', 'Euljiro 3(sam)-ga', 'Chungmuro', 'Dongguk Univ.', 'Yaksu', 'Geumho', 'Oksu', 'Apgujeong', 'Sinsa', 'Jamwon', 'Express Bus Terminal', 'Seoul Nat`l Univ. of Education', 'Nambu Bus Terminal', 'Yangjae', 'Maebong', 'Dogok', 'Daechi', 'Hangnyeoul', 'Daecheong', 'Irwon', 'Suseo', 'Garak Market', 'National Police Hospital', 'Ogeum')\n",
            "Line4 ('Danggogae', 'Sanggye', 'Nowon', 'Chang-dong', 'Ssangmun', 'Suyu', 'Mia', 'Miasamgeori', 'Gireum', 'Sungshin Women`s Univ.', 'Hansung Univ.', 'Hyehwa', 'Dongdaemun', 'Dongdaemun History  Culture Park', 'Chungmuro', 'Myeong-dong', 'Hoehyeon', 'Seoul Station', 'Sookmyung Women`s Univ.', 'Samgakji', 'Sinyongsan', 'Ichon', 'Dongjak', 'Chongshin Univ.', 'Sadang', 'Namtaeryeong', 'Seonbawi', 'Seoul Racecourse Park', 'Seoul Grand Park', 'Gwacheon', 'Government Complex Gwacheon', 'Indeogwon', 'Pyeongchon', 'Beomgye', 'Geumjeong', 'Sanbon', 'Surisan', 'Daeyami', 'Banwol', 'Sangnoksu', 'Hanyang Univ. at Ansan', 'Jungang', 'Gojan', 'Choji', 'Ansan', 'Singil oncheon', 'Jeongwang', 'Oido')\n"
          ],
          "name": "stdout"
        },
        {
          "output_type": "execute_result",
          "data": {
            "text/plain": [
              "{'Ahyeon': 'Line2',\n",
              " 'Anguk': 'Line3',\n",
              " 'Ansan': 'Line4',\n",
              " 'Apgujeong': 'Line3',\n",
              " 'Baegun': 'Line1',\n",
              " 'Baekseok': 'Line3',\n",
              " 'Bangbae': 'Line2',\n",
              " 'Banghak': 'Line1',\n",
              " 'Banwol': 'Line4',\n",
              " 'Beomgye': 'Line4',\n",
              " 'Bongcheon': 'Line2',\n",
              " 'Bosan': 'Line1',\n",
              " 'Bucheon': 'Line1',\n",
              " 'Bugae': 'Line1',\n",
              " 'Bulgwang': 'Line3',\n",
              " 'Bupyeong': 'Line1',\n",
              " 'Chang-dong': ['Line1', 'Line4'],\n",
              " 'Cheongnyangni': 'Line1',\n",
              " 'Choji': 'Line4',\n",
              " 'Chongshin Univ.': 'Line4',\n",
              " 'Chungjeongno': 'Line2',\n",
              " 'Chungmuro': ['Line3', 'Line4'],\n",
              " 'City Hall': ['Line1', 'Line2'],\n",
              " 'Daebang': 'Line1',\n",
              " 'Daecheong': 'Line3',\n",
              " 'Daechi': 'Line3',\n",
              " 'Daegok': 'Line3',\n",
              " 'Daehwa': 'Line3',\n",
              " 'Daerim': 'Line2',\n",
              " 'Daeyami': 'Line4',\n",
              " 'Danggogae': 'Line4',\n",
              " 'Dangsan': 'Line2',\n",
              " 'Deokgye': 'Line1',\n",
              " 'Deokjeong': 'Line1',\n",
              " 'Dobong': 'Line1',\n",
              " 'Dobongsan': 'Line1',\n",
              " 'Dogok': 'Line3',\n",
              " 'Dohwa': 'Line1',\n",
              " 'Dongam': 'Line1',\n",
              " 'Dongdaemun': ['Line1', 'Line4'],\n",
              " 'Dongdaemun History  Culture Park': ['Line2', 'Line4'],\n",
              " 'Dongducheon': 'Line1',\n",
              " 'Dongducheon jungang': 'Line1',\n",
              " 'Dongguk Univ.': 'Line3',\n",
              " 'Dongincheon': 'Line1',\n",
              " 'Dongjak': 'Line4',\n",
              " 'Dongmyo': 'Line1',\n",
              " 'Dongnimmun': 'Line3',\n",
              " 'Dowon': 'Line1',\n",
              " 'Euljiro 1(il)-ga': 'Line2',\n",
              " 'Euljiro 3(sam)-ga': ['Line2', 'Line3'],\n",
              " 'Euljiro 4(sa)-ga': 'Line2',\n",
              " 'Ewha Womans Univ.': 'Line2',\n",
              " 'Express Bus Terminal': 'Line3',\n",
              " 'Gaebong': 'Line1',\n",
              " 'Ganeung': 'Line1',\n",
              " 'Gangbyeon': 'Line2',\n",
              " 'Gangnam': 'Line2',\n",
              " 'Ganseok': 'Line1',\n",
              " 'Garak Market': 'Line3',\n",
              " 'Geumho': 'Line3',\n",
              " 'Geumjeong': 'Line4',\n",
              " 'Gireum': 'Line4',\n",
              " 'Gojan': 'Line4',\n",
              " 'Government Complex Gwacheon': 'Line4',\n",
              " 'Guil': 'Line1',\n",
              " 'Gupabal': 'Line3',\n",
              " 'Guro': 'Line1',\n",
              " 'Guro Digital Complex': 'Line2',\n",
              " 'Guui': 'Line2',\n",
              " 'Gwacheon': 'Line4',\n",
              " 'Gyeongbokgung': 'Line3',\n",
              " 'Hangnyeoul': 'Line3',\n",
              " 'Hankuk Univ. of Foreign Studies': 'Line1',\n",
              " 'Hansung Univ.': 'Line4',\n",
              " 'Hanyang Univ.': 'Line2',\n",
              " 'Hanyang Univ. at Ansan': 'Line4',\n",
              " 'Hapjeong': 'Line2',\n",
              " 'Hoegi': 'Line1',\n",
              " 'Hoehyeon': 'Line4',\n",
              " 'Hoeryong': 'Line1',\n",
              " 'Hongik Univ.': 'Line2',\n",
              " 'Hongje': 'Line3',\n",
              " 'Hwajeong': 'Line3',\n",
              " 'Hyehwa': 'Line4',\n",
              " 'Ichon': 'Line4',\n",
              " 'Incheon': 'Line1',\n",
              " 'Indeogwon': 'Line4',\n",
              " 'Irwon': 'Line3',\n",
              " 'Jamsil': 'Line2',\n",
              " 'Jamsillaru': 'Line2',\n",
              " 'Jamsilsaenae Station': 'Line2',\n",
              " 'Jamwon': 'Line3',\n",
              " 'Jegi-dong': 'Line1',\n",
              " 'Jemulpo': 'Line1',\n",
              " 'Jeongbalsan': 'Line3',\n",
              " 'Jeongwang': 'Line4',\n",
              " 'Jichuk': 'Line3',\n",
              " 'Jihaeng': 'Line1',\n",
              " 'Jonggak': 'Line1',\n",
              " 'Jongno 3(sam)-ga': ['Line1', 'Line3'],\n",
              " 'Jongno 5(o)-ga': 'Line1',\n",
              " 'Juan': 'Line1',\n",
              " 'Jung-dong': 'Line1',\n",
              " 'Jungang': 'Line4',\n",
              " 'Juyeop': 'Line3',\n",
              " 'Konkuk Univ.': 'Line2',\n",
              " 'Kwangwoon Univ.': 'Line1',\n",
              " 'Madu': 'Line3',\n",
              " 'Maebong': 'Line3',\n",
              " 'Mangwolsa': 'Line1',\n",
              " 'Mia': 'Line4',\n",
              " 'Miasamgeori': 'Line4',\n",
              " 'Muakjae': 'Line3',\n",
              " 'Mullae': 'Line2',\n",
              " 'Myeong-dong': 'Line4',\n",
              " 'Nakseongdae': 'Line2',\n",
              " 'Nambu Bus Terminal': 'Line3',\n",
              " 'Namtaeryeong': 'Line4',\n",
              " 'Namyeong': 'Line1',\n",
              " 'National Police Hospital': 'Line3',\n",
              " 'Nogyang': 'Line1',\n",
              " 'Nokbeon': 'Line3',\n",
              " 'Nokcheon': 'Line1',\n",
              " 'Noryangjin': 'Line1',\n",
              " 'Nowon': 'Line4',\n",
              " 'Ogeum': 'Line3',\n",
              " 'Oido': 'Line4',\n",
              " 'Oksu': 'Line3',\n",
              " 'Onsu': 'Line1',\n",
              " 'Oryu-dong': 'Line1',\n",
              " 'Pyeongchon': 'Line4',\n",
              " 'Sadang': ['Line2', 'Line4'],\n",
              " 'Samgakji': 'Line4',\n",
              " 'Samseong': 'Line2',\n",
              " 'Samsong': 'Line3',\n",
              " 'Sanbon': 'Line4',\n",
              " 'Sanggye': 'Line4',\n",
              " 'Sangnoksu': 'Line4',\n",
              " 'Sangwangsimni': 'Line2',\n",
              " 'Seocho': 'Line2',\n",
              " 'Seokgye': 'Line1',\n",
              " 'Seolleung': 'Line2',\n",
              " 'Seonbawi': 'Line4',\n",
              " 'Seongsu': 'Line2',\n",
              " 'Seoul Grand Park': 'Line4',\n",
              " 'Seoul Nat`l Univ.': 'Line2',\n",
              " 'Seoul Nat`l Univ. of Education': ['Line2', 'Line3'],\n",
              " 'Seoul Racecourse Park': 'Line4',\n",
              " 'Seoul Station': ['Line1', 'Line4'],\n",
              " 'Sillim': 'Line2',\n",
              " 'Sinchon': 'Line2',\n",
              " 'Sindaebang': 'Line2',\n",
              " 'Sindang': 'Line2',\n",
              " 'Sindorim': ['Line1', 'Line2'],\n",
              " 'Singil': 'Line1',\n",
              " 'Singil oncheon': 'Line4',\n",
              " 'Sinimun': 'Line1',\n",
              " 'Sinsa': 'Line3',\n",
              " 'Sinseol-dong': 'Line1',\n",
              " 'Sinyongsan': 'Line4',\n",
              " 'Songnae': 'Line1',\n",
              " 'Sookmyung Women`s Univ.': 'Line4',\n",
              " 'Sosa': 'Line1',\n",
              " 'Soyosan': 'Line1',\n",
              " 'Sports Complex': 'Line2',\n",
              " 'Ssangmun': 'Line4',\n",
              " 'Sungshin Women`s Univ.': 'Line4',\n",
              " 'Surisan': 'Line4',\n",
              " 'Suseo': 'Line3',\n",
              " 'Suyu': 'Line4',\n",
              " 'Ttukseom': 'Line2',\n",
              " 'Uijeongbu': 'Line1',\n",
              " 'Wangsimni': 'Line2',\n",
              " 'Wolgye': 'Line1',\n",
              " 'Wondang': 'Line3',\n",
              " 'Wonheung': 'Line3',\n",
              " 'Yaksu': 'Line3',\n",
              " 'Yangjae': 'Line3',\n",
              " 'Yangju': 'Line1',\n",
              " 'Yeokgok': 'Line1',\n",
              " 'Yeoksam': 'Line2',\n",
              " 'Yeongdeungpo': 'Line1',\n",
              " 'Yeongdeungpo-gu Office': 'Line2',\n",
              " 'Yeonsinnae': 'Line3',\n",
              " 'Yongsan': 'Line1'}"
            ]
          },
          "metadata": {
            "tags": []
          },
          "execution_count": 23
        }
      ]
    },
    {
      "cell_type": "code",
      "metadata": {
        "colab": {
          "base_uri": "https://localhost:8080/",
          "height": 208
        },
        "id": "sS0oV4yak5d3",
        "outputId": "e092c741-a28d-4871-df01-4821c607f8fa"
      },
      "source": [
        "stationDict\n",
        "\n",
        "# value  값에 list가 들어있음"
      ],
      "execution_count": 3,
      "outputs": [
        {
          "output_type": "error",
          "ename": "NameError",
          "evalue": "ignored",
          "traceback": [
            "\u001b[0;31m---------------------------------------------------------------------------\u001b[0m",
            "\u001b[0;31mNameError\u001b[0m                                 Traceback (most recent call last)",
            "\u001b[0;32m<ipython-input-3-0e8099c7ecae>\u001b[0m in \u001b[0;36m<module>\u001b[0;34m()\u001b[0m\n\u001b[0;32m----> 1\u001b[0;31m \u001b[0mstationDict\u001b[0m\u001b[0;34m\u001b[0m\u001b[0;34m\u001b[0m\u001b[0m\n\u001b[0m\u001b[1;32m      2\u001b[0m \u001b[0;34m\u001b[0m\u001b[0m\n\u001b[1;32m      3\u001b[0m \u001b[0;31m# value  값에 list가 들어있음\u001b[0m\u001b[0;34m\u001b[0m\u001b[0;34m\u001b[0m\u001b[0;34m\u001b[0m\u001b[0m\n",
            "\u001b[0;31mNameError\u001b[0m: name 'stationDict' is not defined"
          ]
        }
      ]
    },
    {
      "cell_type": "code",
      "metadata": {
        "id": "c72PKVzYt8IM"
      },
      "source": [
        "intersection=[[]]*6\n",
        "intersection[0]=['City Hall','Sindorim']\n",
        "intersection[1]=['Jongno 3(sam)-ga']\n",
        "intersection[2]=['Seoul Station','Chang-dong','Dongdaemun']\n",
        "intersection[3]=['Euljiro 2-ga','Seoul Nat`l Univ. of Education']\n",
        "intersection[4]=['Dongdaemun History  Culture Park','Sadang']\n",
        "intersection[5]=['Chungmuro']"
      ],
      "execution_count": 54,
      "outputs": []
    },
    {
      "cell_type": "code",
      "metadata": {
        "id": "NlRMRoLrl54o"
      },
      "source": [
        "startLine=[]\n",
        "endLine=[]\n",
        "movingChannel=1\n",
        "startIdx=[1,2]\n",
        "endIdx=[1,2]\n",
        "def common_data(list1,list2):\n",
        "    result=False\n",
        "    for x in list1:\n",
        "        for y in list2:\n",
        "            if x==y:\n",
        "                movingChannel=x\n",
        "                result=True\n",
        "                return result\n",
        "                #common_data함수는 두 리스트에 공통원소가 있는 지 판단 즉 한 호선이라도 겹치면 그냥 transferMetro호출 안하고 이동 가능 바로 리턴\n",
        "def findPath(startName,goalName):\n",
        "    for i in range(1,5):\n",
        "        stationNumTemp='Line'+str(i)\n",
        "        if startName in subwayStation.get(stationNumTemp):\n",
        "            startLine.append(i)\n",
        "        if goalName in subwayStation.get(stationNumTemp):\n",
        "            endLine.append(i)\n",
        "            #append의 단점을 list(set())으로 극복\n",
        "  \n",
        "     #debug\n",
        "    print(startLine[0])\n",
        "    print(endLine[0])\n",
        "    #if startLine[0] != endLine[0]:\n",
        "    # if len(startLine)==2:\n",
        "    #     if startLine[0],[endLine[0]]\n",
        "    \n",
        "    # if(len(startLine)==2):\n",
        "    #     startIdx[0]=subwayStation['Line'+str(startLine[0])].index(startName)\n",
        "    #     startIdx[1]=subwayStation['Line'+str(startLine[1])].index(goalName)\n",
        "    # if(len(endLine)==2):\n",
        "    #     endIdx[0]=subwayStation['Line'+str(endLine[0])].index(goalName)\n",
        "    #     endIdx[1]=subwayStation['Line'+str(endLine[1])].index(goalName)\n",
        "\n",
        "    if common_data(list(set(startLine)),list(set(endLine))) is True:\n",
        "        new=list(set(startLine).intersection(set(endLine))) \n",
        "        #출발지와 도착지가 각각 지나는 호선 중 공통으로 겹치는 호선을 new에 저장\n",
        "        print(startLine)\n",
        "        print(endLine)\n",
        "        temp='Line'+str(movingChannel)\n",
        "        print(movingChannel)\n",
        "\n",
        "        ##출발지 도착지 가 같은 호선이 \n",
        "        if subwayStation[temp].index(startName)<subwayStation[temp].index(goalName):\n",
        "            print(subwayStation[temp][subwayStation[temp].index(startName):subwayStation[temp].index(goalName)+1])\n",
        "        else:\n",
        "            print(subwayStation[temp][subwayStation[temp].index(goalName):subwayStation[temp].index(startName)+1][::-1])\n",
        "        return \n",
        "    # if subwayStation[startLine[0]].\n",
        "    # if startLine[0]==1 and endLine[0]==2:\n",
        "    #     interIdx=subwayStation['Line1'].index(intersection[0][0])\n",
        "    #     if startIdx[0]<=interIdx:\n",
        "    #         path=subwayStation['Line1'][startIdx[0]:interIdx+1]\n",
        "    #     else:\n",
        "    #         path=subwayStation['Line1'][interIdx:startIdx[0]+1]\n",
        "    #     print(\"1호선에서 2호선까지 이제 갈아타자\")\n",
        "    #     print(path)\n",
        "            \n",
        "    #     interIdx2=subwayStation['Line2'].index(intersection[0][0])\n",
        "    #     if endIdx[0]<=interIdx2:\n",
        "    #         path2=subwayStation['Line2'][endIdx[0]:interIdx+1]\n",
        "    #     else:\n",
        "    #         path2=subwayStation['Line2'][interIdx:endIdx[0]+1]\n",
        "    #     print(path2)\n",
        "    #     print(f'{goalName} arrive')\n",
        "        \n",
        "        #subwayStation['Line1']-intersection[0]\n",
        "    # if startLine[0]==1 and endLine[0]==3:\n",
        "    #     subwayStation['Line1']\n",
        "    #출발지가 두 호선에 걸쳐 있어도 임의로 정해버림\n",
        "    transferMetro(startLine[0],endLine[0],startName,goalName)\n",
        "    \n",
        "    # if startLine[0]==1 and endLine[0]==3:\n",
        "    #     interIdx=subwayStation['Line1'].index(intersection[1][0])\n",
        "    #     if startIdx[0]<=interIdx:\n",
        "    #         path=subwayStation['Line1'][startIdx[0]:interIdx+1]\n",
        "    #     else:\n",
        "    #         path=subwayStation['Line1'][interIdx:startIdx[0]+1]\n",
        "    #     print(\"1호선에서 2호선까지 이제 갈아타자\")\n",
        "    #     print(path)\n",
        "            \n",
        "    #     interIdx2=subwayStation['Line2'].index(intersection[1][0])\n",
        "    #     if endIdx[0]<=interIdx2:\n",
        "    #         path2=subwayStation['Line2'][endIdx[0]:interIdx+1]\n",
        "    #     else:\n",
        "    #         path2=subwayStation['Line2'][interIdx:endIdx[0]+1]\n",
        "    #     print(path2)\n",
        "    #     print(f'{goalName} arrive')"
      ],
      "execution_count": 170,
      "outputs": []
    },
    {
      "cell_type": "code",
      "metadata": {
        "id": "f0zzeudXOXLi"
      },
      "source": [
        "def transferMetro(firstLine,secondLine,startName,goalName):\n",
        "    if firstLine==1 and secondLine==2:\n",
        "        k=0\n",
        "    if firstLine==1 and secondLine==3:\n",
        "        k=1 \n",
        "    if firstLine==1 and secondLine==4:\n",
        "        k=2 \n",
        "    if firstLine==2 and secondLine==3:\n",
        "        k=3\n",
        "    if firstLine==2 and secondLine==4:\n",
        "        k=4\n",
        "    if firstLine==3 and secondLine==4:\n",
        "        k=5\n",
        "    entryLine='Line'+str(firstLine)\n",
        "    LeaveLine='Line'+str(secondLine)\n",
        "    startIndex=subwayStation[entryLine].index(startName)\n",
        "    interIdx=subwayStation[entryLine].index(intersection[k][0])\n",
        "    if startIndex<=interIdx:\n",
        "        path=subwayStation[entryLine][startIndex:interIdx+1]\n",
        "        print(path[::-1])\n",
        "    else:\n",
        "        path=subwayStation[entryLine][interIdx:startIndex+1]\n",
        "        print(path)\n",
        "    print(f'{firstLine}호선에서 {secondLine}호선까지 이제 갈아타자')\n",
        "    print(k)  \n",
        "    \n",
        "    interIdx2=subwayStation[LeaveLine].index(intersection[k][0])\n",
        "    endSlice=subwayStation[LeaveLine].index(goalName)\n",
        "    if endSlice<=interIdx2:\n",
        "        path2=subwayStation[LeaveLine][endSlice:interIdx2+1]\n",
        "        print(path2[::-1])\n",
        "\n",
        "    else:\n",
        "        print('debug\\n')\n",
        "        \n",
        "        path2=subwayStation[LeaveLine][interIdx2:endSlice+1]\n",
        "        print(path2)\n",
        "        print(f'{goalName} arrive')\n"
      ],
      "execution_count": 175,
      "outputs": []
    },
    {
      "cell_type": "code",
      "metadata": {
        "colab": {
          "base_uri": "https://localhost:8080/"
        },
        "id": "O0bDpoIMmaE1",
        "outputId": "a374cfc8-d82f-4a06-bd3e-05dd89f7b59d"
      },
      "source": [
        "\n",
        "# startLine=[]\n",
        "# endLine=[]\n",
        "#1호선에서 2호선 갈아타기 test완료\n",
        "findPath('Yangju','Bangbae')\n",
        "#2번 가\n"
      ],
      "execution_count": 165,
      "outputs": [
        {
          "output_type": "stream",
          "text": [
            "1\n",
            "2\n",
            "('City Hall', 'Jonggak', 'Jongno 3(sam)-ga', 'Jongno 5(o)-ga', 'Dongdaemun', 'Dongmyo', 'Sinseol-dong', 'Jegi-dong', 'Cheongnyangni', 'Hoegi', 'Hankuk Univ. of Foreign Studies', 'Sinimun', 'Seokgye', 'Kwangwoon Univ.', 'Wolgye', 'Nokcheon', 'Chang-dong', 'Banghak', 'Dobong', 'Dobongsan', 'Mangwolsa', 'Hoeryong', 'Uijeongbu', 'Ganeung', 'Nogyang', 'Yangju')\n",
            "1호선에서 2호선까지 이제 갈아타자\n",
            "('City Hall', 'Euljiro 1(il)-ga', 'Euljiro 3(sam)-ga', 'Euljiro 4(sa)-ga', 'Dongdaemun History  Culture Park', 'Sindang', 'Sangwangsimni', 'Wangsimni', 'Hanyang Univ.', 'Ttukseom', 'Seongsu', 'Konkuk Univ.', 'Guui', 'Gangbyeon', 'Jamsillaru', 'Jamsil', 'Jamsilsaenae Station', 'Sports Complex', 'Samseong', 'Seolleung', 'Yeoksam', 'Gangnam', 'Seoul Nat`l Univ. of Education', 'Seocho', 'Bangbae')\n"
          ],
          "name": "stdout"
        }
      ]
    },
    {
      "cell_type": "markdown",
      "metadata": {
        "id": "8XhJLFhJahdK"
      },
      "source": [
        "테스트 케이스 1 같은 호선 내의 이동- 출발지 도착지 모두 단일역일 때"
      ]
    },
    {
      "cell_type": "code",
      "metadata": {
        "colab": {
          "base_uri": "https://localhost:8080/"
        },
        "id": "h8UdBdq0aluV",
        "outputId": "e8c2c7c0-3f71-4738-9653-c7c1e0b4c9a2"
      },
      "source": [
        "findPath('Banghak','Hoegi')\n",
        "print('역순 테스트')\n",
        "findPath('Hoegi','Banghak')"
      ],
      "execution_count": 166,
      "outputs": [
        {
          "output_type": "stream",
          "text": [
            "1\n",
            "2\n",
            "[1, 1]\n",
            "[2, 1]\n",
            "('Banghak', 'Chang-dong', 'Nokcheon', 'Wolgye', 'Kwangwoon Univ.', 'Seokgye', 'Sinimun', 'Hankuk Univ. of Foreign Studies', 'Hoegi')\n",
            "역순 테스트\n",
            "1\n",
            "2\n",
            "[1, 1, 1]\n",
            "[2, 1, 1]\n",
            "('Hoegi', 'Hankuk Univ. of Foreign Studies', 'Sinimun', 'Seokgye', 'Kwangwoon Univ.', 'Wolgye', 'Nokcheon', 'Chang-dong', 'Banghak')\n"
          ],
          "name": "stdout"
        }
      ]
    },
    {
      "cell_type": "markdown",
      "metadata": {
        "id": "iJYR_zpsaYEO"
      },
      "source": [
        "테스트 케이스 2 같은 호선 내의 이동(1호선)-- 출발지가 교차역일 때"
      ]
    },
    {
      "cell_type": "code",
      "metadata": {
        "colab": {
          "base_uri": "https://localhost:8080/"
        },
        "id": "Wn9S09SnQbF7",
        "outputId": "390395a2-4d81-41b0-e12a-78ca95759917"
      },
      "source": [
        "findPath('City Hall','Daebang')"
      ],
      "execution_count": 167,
      "outputs": [
        {
          "output_type": "stream",
          "text": [
            "1\n",
            "2\n",
            "[1, 1, 1, 1, 2]\n",
            "[2, 1, 1, 1]\n",
            "('City Hall', 'Seoul Station', 'Namyeong', 'Yongsan', 'Noryangjin', 'Daebang')\n"
          ],
          "name": "stdout"
        }
      ]
    },
    {
      "cell_type": "markdown",
      "metadata": {
        "id": "EHQ_l5oWZ83M"
      },
      "source": [
        "테스트 케이스 3 1호선 출발 2호선 도착\n",
        "*이탤릭체 텍스트*"
      ]
    },
    {
      "cell_type": "code",
      "metadata": {
        "colab": {
          "base_uri": "https://localhost:8080/"
        },
        "id": "xE3edFw3aA4K",
        "outputId": "3232fdfd-012c-4910-b163-354bc98d98b0"
      },
      "source": [
        "findPath('Yangju','Bangbae')"
      ],
      "execution_count": 172,
      "outputs": [
        {
          "output_type": "stream",
          "text": [
            "1\n",
            "2\n",
            "('City Hall', 'Jonggak', 'Jongno 3(sam)-ga', 'Jongno 5(o)-ga', 'Dongdaemun', 'Dongmyo', 'Sinseol-dong', 'Jegi-dong', 'Cheongnyangni', 'Hoegi', 'Hankuk Univ. of Foreign Studies', 'Sinimun', 'Seokgye', 'Kwangwoon Univ.', 'Wolgye', 'Nokcheon', 'Chang-dong', 'Banghak', 'Dobong', 'Dobongsan', 'Mangwolsa', 'Hoeryong', 'Uijeongbu', 'Ganeung', 'Nogyang', 'Yangju')\n",
            "1호선에서 2호선까지 이제 갈아타자\n",
            "('City Hall', 'Euljiro 1(il)-ga', 'Euljiro 3(sam)-ga', 'Euljiro 4(sa)-ga', 'Dongdaemun History  Culture Park', 'Sindang', 'Sangwangsimni', 'Wangsimni', 'Hanyang Univ.', 'Ttukseom', 'Seongsu', 'Konkuk Univ.', 'Guui', 'Gangbyeon', 'Jamsillaru', 'Jamsil', 'Jamsilsaenae Station', 'Sports Complex', 'Samseong', 'Seolleung', 'Yeoksam', 'Gangnam', 'Seoul Nat`l Univ. of Education', 'Seocho', 'Bangbae')\n"
          ],
          "name": "stdout"
        }
      ]
    },
    {
      "cell_type": "code",
      "metadata": {
        "colab": {
          "base_uri": "https://localhost:8080/",
          "height": 432
        },
        "id": "6MgX3L8xcb2Q",
        "outputId": "a1880557-53e9-427b-ce92-d606fd9d33db"
      },
      "source": [
        "findPath('Dobongsan','Oksu')"
      ],
      "execution_count": 176,
      "outputs": [
        {
          "output_type": "stream",
          "text": [
            "1\n",
            "2\n",
            "('City Hall', 'Jonggak', 'Jongno 3(sam)-ga', 'Jongno 5(o)-ga', 'Dongdaemun', 'Dongmyo', 'Sinseol-dong', 'Jegi-dong', 'Cheongnyangni', 'Hoegi', 'Hankuk Univ. of Foreign Studies', 'Sinimun', 'Seokgye', 'Kwangwoon Univ.', 'Wolgye', 'Nokcheon', 'Chang-dong', 'Banghak', 'Dobong', 'Dobongsan')\n",
            "1호선에서 2호선까지 이제 갈아타자\n",
            "0\n"
          ],
          "name": "stdout"
        },
        {
          "output_type": "error",
          "ename": "ValueError",
          "evalue": "ignored",
          "traceback": [
            "\u001b[0;31m---------------------------------------------------------------------------\u001b[0m",
            "\u001b[0;31mValueError\u001b[0m                                Traceback (most recent call last)",
            "\u001b[0;32m<ipython-input-176-3aed97348344>\u001b[0m in \u001b[0;36m<module>\u001b[0;34m()\u001b[0m\n\u001b[0;32m----> 1\u001b[0;31m \u001b[0mfindPath\u001b[0m\u001b[0;34m(\u001b[0m\u001b[0;34m'Dobongsan'\u001b[0m\u001b[0;34m,\u001b[0m\u001b[0;34m'Oksu'\u001b[0m\u001b[0;34m)\u001b[0m\u001b[0;34m\u001b[0m\u001b[0;34m\u001b[0m\u001b[0m\n\u001b[0m",
            "\u001b[0;32m<ipython-input-170-6a93f16a48b9>\u001b[0m in \u001b[0;36mfindPath\u001b[0;34m(startName, goalName)\u001b[0m\n\u001b[1;32m     72\u001b[0m     \u001b[0;31m#     subwayStation['Line1']\u001b[0m\u001b[0;34m\u001b[0m\u001b[0;34m\u001b[0m\u001b[0;34m\u001b[0m\u001b[0m\n\u001b[1;32m     73\u001b[0m     \u001b[0;31m#출발지가 두 호선에 걸쳐 있어도 임의로 정해버림\u001b[0m\u001b[0;34m\u001b[0m\u001b[0;34m\u001b[0m\u001b[0;34m\u001b[0m\u001b[0m\n\u001b[0;32m---> 74\u001b[0;31m     \u001b[0mtransferMetro\u001b[0m\u001b[0;34m(\u001b[0m\u001b[0mstartLine\u001b[0m\u001b[0;34m[\u001b[0m\u001b[0;36m0\u001b[0m\u001b[0;34m]\u001b[0m\u001b[0;34m,\u001b[0m\u001b[0mendLine\u001b[0m\u001b[0;34m[\u001b[0m\u001b[0;36m0\u001b[0m\u001b[0;34m]\u001b[0m\u001b[0;34m,\u001b[0m\u001b[0mstartName\u001b[0m\u001b[0;34m,\u001b[0m\u001b[0mgoalName\u001b[0m\u001b[0;34m)\u001b[0m\u001b[0;34m\u001b[0m\u001b[0;34m\u001b[0m\u001b[0m\n\u001b[0m\u001b[1;32m     75\u001b[0m \u001b[0;34m\u001b[0m\u001b[0m\n\u001b[1;32m     76\u001b[0m     \u001b[0;31m# if startLine[0]==1 and endLine[0]==3:\u001b[0m\u001b[0;34m\u001b[0m\u001b[0;34m\u001b[0m\u001b[0;34m\u001b[0m\u001b[0m\n",
            "\u001b[0;32m<ipython-input-175-2dec708115b6>\u001b[0m in \u001b[0;36mtransferMetro\u001b[0;34m(firstLine, secondLine, startName, goalName)\u001b[0m\n\u001b[1;32m     26\u001b[0m \u001b[0;34m\u001b[0m\u001b[0m\n\u001b[1;32m     27\u001b[0m     \u001b[0minterIdx2\u001b[0m\u001b[0;34m=\u001b[0m\u001b[0msubwayStation\u001b[0m\u001b[0;34m[\u001b[0m\u001b[0mLeaveLine\u001b[0m\u001b[0;34m]\u001b[0m\u001b[0;34m.\u001b[0m\u001b[0mindex\u001b[0m\u001b[0;34m(\u001b[0m\u001b[0mintersection\u001b[0m\u001b[0;34m[\u001b[0m\u001b[0mk\u001b[0m\u001b[0;34m]\u001b[0m\u001b[0;34m[\u001b[0m\u001b[0;36m0\u001b[0m\u001b[0;34m]\u001b[0m\u001b[0;34m)\u001b[0m\u001b[0;34m\u001b[0m\u001b[0;34m\u001b[0m\u001b[0m\n\u001b[0;32m---> 28\u001b[0;31m     \u001b[0mendSlice\u001b[0m\u001b[0;34m=\u001b[0m\u001b[0msubwayStation\u001b[0m\u001b[0;34m[\u001b[0m\u001b[0mLeaveLine\u001b[0m\u001b[0;34m]\u001b[0m\u001b[0;34m.\u001b[0m\u001b[0mindex\u001b[0m\u001b[0;34m(\u001b[0m\u001b[0mgoalName\u001b[0m\u001b[0;34m)\u001b[0m\u001b[0;34m\u001b[0m\u001b[0;34m\u001b[0m\u001b[0m\n\u001b[0m\u001b[1;32m     29\u001b[0m     \u001b[0;32mif\u001b[0m \u001b[0mendSlice\u001b[0m\u001b[0;34m<=\u001b[0m\u001b[0minterIdx2\u001b[0m\u001b[0;34m:\u001b[0m\u001b[0;34m\u001b[0m\u001b[0;34m\u001b[0m\u001b[0m\n\u001b[1;32m     30\u001b[0m         \u001b[0mpath2\u001b[0m\u001b[0;34m=\u001b[0m\u001b[0msubwayStation\u001b[0m\u001b[0;34m[\u001b[0m\u001b[0mLeaveLine\u001b[0m\u001b[0;34m]\u001b[0m\u001b[0;34m[\u001b[0m\u001b[0mendSlice\u001b[0m\u001b[0;34m:\u001b[0m\u001b[0minterIdx2\u001b[0m\u001b[0;34m+\u001b[0m\u001b[0;36m1\u001b[0m\u001b[0;34m]\u001b[0m\u001b[0;34m\u001b[0m\u001b[0;34m\u001b[0m\u001b[0m\n",
            "\u001b[0;31mValueError\u001b[0m: tuple.index(x): x not in tuple"
          ]
        }
      ]
    },
    {
      "cell_type": "code",
      "metadata": {
        "id": "47igZ_HrGLb-",
        "colab": {
          "base_uri": "https://localhost:8080/",
          "height": 844
        },
        "outputId": "3df5da67-29d1-4ff2-bf48-406f76217013"
      },
      "source": [
        "import sys\n",
        "print('***************************')\n",
        "print('1.Display subway line information')\n",
        "print('2.Display subway station information')\n",
        "print('3.Find a path betwen two subway stations')\n",
        "print('4.Exit')\n",
        "print('***************************')\n",
        "def dispSubwayLineInfo():\n",
        "    num=input('please enter subway line number(1-4)')\n",
        "    strLineNumber='Line'+num\n",
        "  #key에 해당하는 strLineNumber를 출력\n",
        "    print(subwayStation.get(strLineNumber))\n",
        "    if ((option is not '1') and (option is not '2') and (option is not '3') and (option is not '4')):\n",
        "       print(\"put valid station line number\")\n",
        "def dispSubwayStationInfo():\n",
        "    stationName=input('>>Please enter station name')  \n",
        "    lineList=[]\n",
        "    for i in range(1,5):\n",
        "        stationNumTemp='Line'+str(i)\n",
        "        if stationName in subwayStation.get(stationNumTemp):\n",
        "            lineList.append(stationNumTemp)\n",
        "    if len(lineList) ==0:\n",
        "        print(\"request user input\")\n",
        "    else:\n",
        "        if len(lineList) is not 1: \n",
        "            print(f'{stationName} is in ',end='')\n",
        "            for a in lineList:\n",
        "              print( f'{a} ' ,end='')\n",
        "        else:\n",
        "            print(f'{stationName} is in {lineList[0]}')\n",
        "    print()\n",
        "    # for skipping a line\n",
        "while True:\n",
        "    option=input(\" PLease choose one of the options(1-3):\")\n",
        "    if option=='1':\n",
        "        print('******************************')\n",
        "        print('Subway line information service')\n",
        "        print('*******************************')\n",
        "        while True:\n",
        "            dispSubwayLineInfo()\n",
        "\n",
        "            # num=input('please enter subway line number(1-4)')\n",
        "            # if num=='1':\n",
        "              \n",
        "            #     print(subwayStation[0]) \n",
        "            #     break\n",
        "            # elif num=='2':\n",
        "            #     print(subwayStation[1])\n",
        "                \n",
        "            #     break\n",
        "            # elif num=='3':\n",
        "            #     print(subwayStation[2])\n",
        "            #     break\n",
        "            # elif num=='4':\n",
        "            #     print(subwayStation[3])\n",
        "            #     break\n",
        "            # else:\n",
        "            #     print(\"put valid station line number\")\n",
        "        \n",
        "    elif option=='2':\n",
        "        \n",
        "        #station name is invalid-> \n",
        "        while True:\n",
        "            dispSubwayStationInfo()\n",
        "            \n",
        "     \n",
        "        \n",
        "    elif option=='3':\n",
        "        sys.exit()\n",
        "        #for program exit\n",
        "        break\n",
        "    else:\n",
        "        print(\"requesting user input for option variable again\")\n",
        "        \n",
        "    \n",
        "    \n",
        "    \n",
        "\n"
      ],
      "execution_count": 178,
      "outputs": [
        {
          "output_type": "stream",
          "text": [
            "***************************\n",
            "1.Display subway line information\n",
            "2.Display subway station information\n",
            "3.Find a path betwen two subway stations\n",
            "4.Exit\n",
            "***************************\n",
            " PLease choose one of the options(1-3):2\n",
            ">>Please enter station nameOksu\n",
            "Oksu is in Line3\n",
            "\n",
            ">>Please enter station name1\n",
            "request user input\n",
            "\n",
            ">>Please enter station nameDobong\n",
            "Dobong is in Line1\n",
            "\n"
          ],
          "name": "stdout"
        },
        {
          "output_type": "error",
          "ename": "KeyboardInterrupt",
          "evalue": "ignored",
          "traceback": [
            "\u001b[0;31m---------------------------------------------------------------------------\u001b[0m",
            "\u001b[0;31mKeyboardInterrupt\u001b[0m                         Traceback (most recent call last)",
            "\u001b[0;32m/usr/local/lib/python3.6/dist-packages/ipykernel/kernelbase.py\u001b[0m in \u001b[0;36m_input_request\u001b[0;34m(self, prompt, ident, parent, password)\u001b[0m\n\u001b[1;32m    728\u001b[0m             \u001b[0;32mtry\u001b[0m\u001b[0;34m:\u001b[0m\u001b[0;34m\u001b[0m\u001b[0;34m\u001b[0m\u001b[0m\n\u001b[0;32m--> 729\u001b[0;31m                 \u001b[0mident\u001b[0m\u001b[0;34m,\u001b[0m \u001b[0mreply\u001b[0m \u001b[0;34m=\u001b[0m \u001b[0mself\u001b[0m\u001b[0;34m.\u001b[0m\u001b[0msession\u001b[0m\u001b[0;34m.\u001b[0m\u001b[0mrecv\u001b[0m\u001b[0;34m(\u001b[0m\u001b[0mself\u001b[0m\u001b[0;34m.\u001b[0m\u001b[0mstdin_socket\u001b[0m\u001b[0;34m,\u001b[0m \u001b[0;36m0\u001b[0m\u001b[0;34m)\u001b[0m\u001b[0;34m\u001b[0m\u001b[0;34m\u001b[0m\u001b[0m\n\u001b[0m\u001b[1;32m    730\u001b[0m             \u001b[0;32mexcept\u001b[0m \u001b[0mException\u001b[0m\u001b[0;34m:\u001b[0m\u001b[0;34m\u001b[0m\u001b[0;34m\u001b[0m\u001b[0m\n",
            "\u001b[0;32m/usr/local/lib/python3.6/dist-packages/jupyter_client/session.py\u001b[0m in \u001b[0;36mrecv\u001b[0;34m(self, socket, mode, content, copy)\u001b[0m\n\u001b[1;32m    802\u001b[0m         \u001b[0;32mtry\u001b[0m\u001b[0;34m:\u001b[0m\u001b[0;34m\u001b[0m\u001b[0;34m\u001b[0m\u001b[0m\n\u001b[0;32m--> 803\u001b[0;31m             \u001b[0mmsg_list\u001b[0m \u001b[0;34m=\u001b[0m \u001b[0msocket\u001b[0m\u001b[0;34m.\u001b[0m\u001b[0mrecv_multipart\u001b[0m\u001b[0;34m(\u001b[0m\u001b[0mmode\u001b[0m\u001b[0;34m,\u001b[0m \u001b[0mcopy\u001b[0m\u001b[0;34m=\u001b[0m\u001b[0mcopy\u001b[0m\u001b[0;34m)\u001b[0m\u001b[0;34m\u001b[0m\u001b[0;34m\u001b[0m\u001b[0m\n\u001b[0m\u001b[1;32m    804\u001b[0m         \u001b[0;32mexcept\u001b[0m \u001b[0mzmq\u001b[0m\u001b[0;34m.\u001b[0m\u001b[0mZMQError\u001b[0m \u001b[0;32mas\u001b[0m \u001b[0me\u001b[0m\u001b[0;34m:\u001b[0m\u001b[0;34m\u001b[0m\u001b[0;34m\u001b[0m\u001b[0m\n",
            "\u001b[0;32m/usr/local/lib/python3.6/dist-packages/zmq/sugar/socket.py\u001b[0m in \u001b[0;36mrecv_multipart\u001b[0;34m(self, flags, copy, track)\u001b[0m\n\u001b[1;32m    565\u001b[0m         \"\"\"\n\u001b[0;32m--> 566\u001b[0;31m         \u001b[0mparts\u001b[0m \u001b[0;34m=\u001b[0m \u001b[0;34m[\u001b[0m\u001b[0mself\u001b[0m\u001b[0;34m.\u001b[0m\u001b[0mrecv\u001b[0m\u001b[0;34m(\u001b[0m\u001b[0mflags\u001b[0m\u001b[0;34m,\u001b[0m \u001b[0mcopy\u001b[0m\u001b[0;34m=\u001b[0m\u001b[0mcopy\u001b[0m\u001b[0;34m,\u001b[0m \u001b[0mtrack\u001b[0m\u001b[0;34m=\u001b[0m\u001b[0mtrack\u001b[0m\u001b[0;34m)\u001b[0m\u001b[0;34m]\u001b[0m\u001b[0;34m\u001b[0m\u001b[0;34m\u001b[0m\u001b[0m\n\u001b[0m\u001b[1;32m    567\u001b[0m         \u001b[0;31m# have first part already, only loop while more to receive\u001b[0m\u001b[0;34m\u001b[0m\u001b[0;34m\u001b[0m\u001b[0;34m\u001b[0m\u001b[0m\n",
            "\u001b[0;32mzmq/backend/cython/socket.pyx\u001b[0m in \u001b[0;36mzmq.backend.cython.socket.Socket.recv\u001b[0;34m()\u001b[0m\n",
            "\u001b[0;32mzmq/backend/cython/socket.pyx\u001b[0m in \u001b[0;36mzmq.backend.cython.socket.Socket.recv\u001b[0;34m()\u001b[0m\n",
            "\u001b[0;32mzmq/backend/cython/socket.pyx\u001b[0m in \u001b[0;36mzmq.backend.cython.socket._recv_copy\u001b[0;34m()\u001b[0m\n",
            "\u001b[0;32m/usr/local/lib/python3.6/dist-packages/zmq/backend/cython/checkrc.pxd\u001b[0m in \u001b[0;36mzmq.backend.cython.checkrc._check_rc\u001b[0;34m()\u001b[0m\n",
            "\u001b[0;31mKeyboardInterrupt\u001b[0m: ",
            "\nDuring handling of the above exception, another exception occurred:\n",
            "\u001b[0;31mKeyboardInterrupt\u001b[0m                         Traceback (most recent call last)",
            "\u001b[0;32m<ipython-input-178-66bbf0ee2a52>\u001b[0m in \u001b[0;36m<module>\u001b[0;34m()\u001b[0m\n\u001b[1;32m     62\u001b[0m         \u001b[0;31m#station name is invalid->\u001b[0m\u001b[0;34m\u001b[0m\u001b[0;34m\u001b[0m\u001b[0;34m\u001b[0m\u001b[0m\n\u001b[1;32m     63\u001b[0m         \u001b[0;32mwhile\u001b[0m \u001b[0;32mTrue\u001b[0m\u001b[0;34m:\u001b[0m\u001b[0;34m\u001b[0m\u001b[0;34m\u001b[0m\u001b[0m\n\u001b[0;32m---> 64\u001b[0;31m             \u001b[0mdispSubwayStationInfo\u001b[0m\u001b[0;34m(\u001b[0m\u001b[0;34m)\u001b[0m\u001b[0;34m\u001b[0m\u001b[0;34m\u001b[0m\u001b[0m\n\u001b[0m\u001b[1;32m     65\u001b[0m \u001b[0;34m\u001b[0m\u001b[0m\n\u001b[1;32m     66\u001b[0m \u001b[0;34m\u001b[0m\u001b[0m\n",
            "\u001b[0;32m<ipython-input-178-66bbf0ee2a52>\u001b[0m in \u001b[0;36mdispSubwayStationInfo\u001b[0;34m()\u001b[0m\n\u001b[1;32m     14\u001b[0m        \u001b[0mprint\u001b[0m\u001b[0;34m(\u001b[0m\u001b[0;34m\"put valid station line number\"\u001b[0m\u001b[0;34m)\u001b[0m\u001b[0;34m\u001b[0m\u001b[0;34m\u001b[0m\u001b[0m\n\u001b[1;32m     15\u001b[0m \u001b[0;32mdef\u001b[0m \u001b[0mdispSubwayStationInfo\u001b[0m\u001b[0;34m(\u001b[0m\u001b[0;34m)\u001b[0m\u001b[0;34m:\u001b[0m\u001b[0;34m\u001b[0m\u001b[0;34m\u001b[0m\u001b[0m\n\u001b[0;32m---> 16\u001b[0;31m     \u001b[0mstationName\u001b[0m\u001b[0;34m=\u001b[0m\u001b[0minput\u001b[0m\u001b[0;34m(\u001b[0m\u001b[0;34m'>>Please enter station name'\u001b[0m\u001b[0;34m)\u001b[0m\u001b[0;34m\u001b[0m\u001b[0;34m\u001b[0m\u001b[0m\n\u001b[0m\u001b[1;32m     17\u001b[0m     \u001b[0mlineList\u001b[0m\u001b[0;34m=\u001b[0m\u001b[0;34m[\u001b[0m\u001b[0;34m]\u001b[0m\u001b[0;34m\u001b[0m\u001b[0;34m\u001b[0m\u001b[0m\n\u001b[1;32m     18\u001b[0m     \u001b[0;32mfor\u001b[0m \u001b[0mi\u001b[0m \u001b[0;32min\u001b[0m \u001b[0mrange\u001b[0m\u001b[0;34m(\u001b[0m\u001b[0;36m1\u001b[0m\u001b[0;34m,\u001b[0m\u001b[0;36m5\u001b[0m\u001b[0;34m)\u001b[0m\u001b[0;34m:\u001b[0m\u001b[0;34m\u001b[0m\u001b[0;34m\u001b[0m\u001b[0m\n",
            "\u001b[0;32m/usr/local/lib/python3.6/dist-packages/ipykernel/kernelbase.py\u001b[0m in \u001b[0;36mraw_input\u001b[0;34m(self, prompt)\u001b[0m\n\u001b[1;32m    702\u001b[0m             \u001b[0mself\u001b[0m\u001b[0;34m.\u001b[0m\u001b[0m_parent_ident\u001b[0m\u001b[0;34m,\u001b[0m\u001b[0;34m\u001b[0m\u001b[0;34m\u001b[0m\u001b[0m\n\u001b[1;32m    703\u001b[0m             \u001b[0mself\u001b[0m\u001b[0;34m.\u001b[0m\u001b[0m_parent_header\u001b[0m\u001b[0;34m,\u001b[0m\u001b[0;34m\u001b[0m\u001b[0;34m\u001b[0m\u001b[0m\n\u001b[0;32m--> 704\u001b[0;31m             \u001b[0mpassword\u001b[0m\u001b[0;34m=\u001b[0m\u001b[0;32mFalse\u001b[0m\u001b[0;34m,\u001b[0m\u001b[0;34m\u001b[0m\u001b[0;34m\u001b[0m\u001b[0m\n\u001b[0m\u001b[1;32m    705\u001b[0m         )\n\u001b[1;32m    706\u001b[0m \u001b[0;34m\u001b[0m\u001b[0m\n",
            "\u001b[0;32m/usr/local/lib/python3.6/dist-packages/ipykernel/kernelbase.py\u001b[0m in \u001b[0;36m_input_request\u001b[0;34m(self, prompt, ident, parent, password)\u001b[0m\n\u001b[1;32m    732\u001b[0m             \u001b[0;32mexcept\u001b[0m \u001b[0mKeyboardInterrupt\u001b[0m\u001b[0;34m:\u001b[0m\u001b[0;34m\u001b[0m\u001b[0;34m\u001b[0m\u001b[0m\n\u001b[1;32m    733\u001b[0m                 \u001b[0;31m# re-raise KeyboardInterrupt, to truncate traceback\u001b[0m\u001b[0;34m\u001b[0m\u001b[0;34m\u001b[0m\u001b[0;34m\u001b[0m\u001b[0m\n\u001b[0;32m--> 734\u001b[0;31m                 \u001b[0;32mraise\u001b[0m \u001b[0mKeyboardInterrupt\u001b[0m\u001b[0;34m\u001b[0m\u001b[0;34m\u001b[0m\u001b[0m\n\u001b[0m\u001b[1;32m    735\u001b[0m             \u001b[0;32melse\u001b[0m\u001b[0;34m:\u001b[0m\u001b[0;34m\u001b[0m\u001b[0;34m\u001b[0m\u001b[0m\n\u001b[1;32m    736\u001b[0m                 \u001b[0;32mbreak\u001b[0m\u001b[0;34m\u001b[0m\u001b[0;34m\u001b[0m\u001b[0m\n",
            "\u001b[0;31mKeyboardInterrupt\u001b[0m: "
          ]
        }
      ]
    },
    {
      "cell_type": "code",
      "metadata": {
        "id": "6Mb7sF26H1U2"
      },
      "source": [
        "def dispSubwayLineInfo():\n",
        "  "
      ],
      "execution_count": null,
      "outputs": []
    }
  ]
}