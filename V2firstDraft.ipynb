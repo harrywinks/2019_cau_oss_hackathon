{
  "nbformat": 4,
  "nbformat_minor": 0,
  "metadata": {
    "colab": {
      "name": "ossppl_project_template.ipynb의 사본",
      "provenance": [],
      "collapsed_sections": [
        "NUD-hySm_uPc"
      ],
      "toc_visible": true,
      "include_colab_link": true
    },
    "kernelspec": {
      "name": "python3",
      "display_name": "Python 3"
    }
  },
  "cells": [
    {
      "cell_type": "markdown",
      "metadata": {
        "id": "view-in-github",
        "colab_type": "text"
      },
      "source": [
        "<a href=\"https://colab.research.google.com/github/harrywinks/2019_cau_oss_hackathon/blob/master/V2firstDraft.ipynb\" target=\"_parent\"><img src=\"https://colab.research.google.com/assets/colab-badge.svg\" alt=\"Open In Colab\"/></a>"
      ]
    },
    {
      "cell_type": "markdown",
      "metadata": {
        "id": "NUD-hySm_uPc"
      },
      "source": [
        "# **Open Source SW and Python Programming Project: Implementation of Subway Navigation**\n",
        "\n",
        "In this project, you will implement a navigation system for Seoul subway stations, especially **step by step**\n",
        "\n",
        "\n"
      ]
    },
    {
      "cell_type": "markdown",
      "metadata": {
        "id": "uUsnepoeAhVl"
      },
      "source": [
        "# 0. Initialization\n",
        "\n",
        "Read subway station information by reading the file **simplified_subway_info_english.xlsx** or **simplified_subway_info_korean.xlsx**\n",
        "*  The excel file contains subway station information of Seoul subway line 1 ~ 4\n",
        "*  When you execute this sourcecode, you MUST upload these files in your Colab runtime environment\n",
        "*   **MUST NOT** change this code cell"
      ]
    },
    {
      "cell_type": "code",
      "metadata": {
        "id": "qnbOlA6o_mIl"
      },
      "source": [
        "import xlrd\n",
        "\n",
        "# Read data file\n",
        "data = xlrd.open_workbook(\"simplified_subway_info_english.xlsx\")\n",
        "data = data.sheet_by_name('Sheet1')\n",
        "\n",
        "# Store the loaded book object as a string list in subwayStation variable\n",
        "subwayStation = {}\n",
        "for line in range(4) :\n",
        "    cur = [x for x in data.col_values(line) if x]  \n",
        "    strTemp='Line'+str(line+1)\n",
        "    subwayStation[strTemp]=tuple(cur[1:])\n",
        "#     subwayStation.append(cur[1:])\n",
        "# subway1\n",
        "# subwayStation=['Line1':subway1,'Line2':subway2,'Line3':subway3]\n"
      ],
      "execution_count": 21,
      "outputs": []
    },
    {
      "cell_type": "markdown",
      "metadata": {
        "id": "IidO4bv7E8Hy"
      },
      "source": [
        "# 새 섹션"
      ]
    },
    {
      "cell_type": "markdown",
      "metadata": {
        "id": "DBXU61Tn_vKS"
      },
      "source": [
        "# 1. Your implementation\n",
        "Let's start the implementation of a subway naviation system by using the loaded subway station information :)\n",
        "\n",
        "*   You can access the subway station information by referring to **subwayStation** variable (list type)"
      ]
    },
    {
      "cell_type": "code",
      "metadata": {
        "id": "7h-scy6AI8Re",
        "colab": {
          "base_uri": "https://localhost:8080/"
        },
        "outputId": "305cabf1-6615-45eb-8198-c98b73f5767b"
      },
      "source": [
        "subwayStation.values()"
      ],
      "execution_count": 7,
      "outputs": [
        {
          "output_type": "execute_result",
          "data": {
            "text/plain": [
              "dict_values([('Soyosan', 'Dongducheon', 'Bosan', 'Dongducheon jungang', 'Jihaeng', 'Deokjeong', 'Deokgye', 'Yangju', 'Nogyang', 'Ganeung', 'Uijeongbu', 'Hoeryong', 'Mangwolsa', 'Dobongsan', 'Dobong', 'Banghak', 'Chang-dong', 'Nokcheon', 'Wolgye', 'Kwangwoon Univ.', 'Seokgye', 'Sinimun', 'Hankuk Univ. of Foreign Studies', 'Hoegi', 'Cheongnyangni', 'Jegi-dong', 'Sinseol-dong', 'Dongmyo', 'Dongdaemun', 'Jongno 5(o)-ga', 'Jongno 3(sam)-ga', 'Jonggak', 'City Hall', 'Seoul Station', 'Namyeong', 'Yongsan', 'Noryangjin', 'Daebang', 'Singil', 'Yeongdeungpo', 'Sindorim', 'Guro', 'Guil', 'Gaebong', 'Oryu-dong', 'Onsu', 'Yeokgok', 'Sosa', 'Bucheon', 'Jung-dong', 'Songnae', 'Bugae', 'Bupyeong', 'Baegun', 'Dongam', 'Ganseok', 'Juan', 'Dohwa', 'Jemulpo', 'Dowon', 'Dongincheon', 'Incheon'), ('Sindorim', 'Daerim', 'Guro Digital Complex', 'Sindaebang', 'Sillim', 'Bongcheon', 'Seoul Nat`l Univ.', 'Nakseongdae', 'Sadang', 'Bangbae', 'Seocho', 'Seoul Nat`l Univ. of Education', 'Gangnam', 'Yeoksam', 'Seolleung', 'Samseong', 'Sports Complex', 'Jamsilsaenae Station', 'Jamsil', 'Jamsillaru', 'Gangbyeon', 'Guui', 'Konkuk Univ.', 'Seongsu', 'Ttukseom', 'Hanyang Univ.', 'Wangsimni', 'Sangwangsimni', 'Sindang', 'Dongdaemun History  Culture Park', 'Euljiro 4(sa)-ga', 'Euljiro 3(sam)-ga', 'Euljiro 1(il)-ga', 'City Hall', 'Chungjeongno', 'Ahyeon', 'Ewha Womans Univ.', 'Sinchon', 'Hongik Univ.', 'Hapjeong', 'Dangsan', 'Yeongdeungpo-gu Office', 'Mullae'), ('Daehwa', 'Juyeop', 'Jeongbalsan', 'Madu', 'Baekseok', 'Daegok', 'Hwajeong', 'Wondang', 'Wonheung', 'Samsong', 'Jichuk', 'Gupabal', 'Yeonsinnae', 'Bulgwang', 'Nokbeon', 'Hongje', 'Muakjae', 'Dongnimmun', 'Gyeongbokgung', 'Anguk', 'Jongno 3(sam)-ga', 'Euljiro 3(sam)-ga', 'Chungmuro', 'Dongguk Univ.', 'Yaksu', 'Geumho', 'Oksu', 'Apgujeong', 'Sinsa', 'Jamwon', 'Express Bus Terminal', 'Seoul Nat`l Univ. of Education', 'Nambu Bus Terminal', 'Yangjae', 'Maebong', 'Dogok', 'Daechi', 'Hangnyeoul', 'Daecheong', 'Irwon', 'Suseo', 'Garak Market', 'National Police Hospital', 'Ogeum'), ('Danggogae', 'Sanggye', 'Nowon', 'Chang-dong', 'Ssangmun', 'Suyu', 'Mia', 'Miasamgeori', 'Gireum', 'Sungshin Women`s Univ.', 'Hansung Univ.', 'Hyehwa', 'Dongdaemun', 'Dongdaemun History  Culture Park', 'Chungmuro', 'Myeong-dong', 'Hoehyeon', 'Seoul Station', 'Sookmyung Women`s Univ.', 'Samgakji', 'Sinyongsan', 'Ichon', 'Dongjak', 'Chongshin Univ.', 'Sadang', 'Namtaeryeong', 'Seonbawi', 'Seoul Racecourse Park', 'Seoul Grand Park', 'Gwacheon', 'Government Complex Gwacheon', 'Indeogwon', 'Pyeongchon', 'Beomgye', 'Geumjeong', 'Sanbon', 'Surisan', 'Daeyami', 'Banwol', 'Sangnoksu', 'Hanyang Univ. at Ansan', 'Jungang', 'Gojan', 'Choji', 'Ansan', 'Singil oncheon', 'Jeongwang', 'Oido')])"
            ]
          },
          "metadata": {
            "tags": []
          },
          "execution_count": 7
        }
      ]
    },
    {
      "cell_type": "code",
      "metadata": {
        "id": "IpIhoaH-i7Ch"
      },
      "source": [
        "def append_value(dict_obj,key,value):\n",
        "    if key in dict_obj:\n",
        "        if not isinstance(dict_obj[key],list):\n",
        "            dict_obj[key]=[dict_obj[key]]\n",
        "        dict_obj[key].append(value)\n",
        "    else:\n",
        "        dict_obj[key]=value\n",
        "\n",
        "def setDict(stationDict):\n",
        "    for key,value in subwayStation.items():\n",
        "        print(key,value)\n",
        "        for val in value:\n",
        "            append_value(stationDict,val,key)\n",
        "    return stationDict"
      ],
      "execution_count": 22,
      "outputs": []
    },
    {
      "cell_type": "code",
      "metadata": {
        "colab": {
          "base_uri": "https://localhost:8080/"
        },
        "id": "cp6YP1j9j_nk",
        "outputId": "8bd72905-6100-41e1-8a8a-56b7ed6ec7b9"
      },
      "source": [
        "stationDict={}\n",
        "setDict(stationDict)"
      ],
      "execution_count": 23,
      "outputs": [
        {
          "output_type": "stream",
          "text": [
            "Line1 ('Soyosan', 'Dongducheon', 'Bosan', 'Dongducheon jungang', 'Jihaeng', 'Deokjeong', 'Deokgye', 'Yangju', 'Nogyang', 'Ganeung', 'Uijeongbu', 'Hoeryong', 'Mangwolsa', 'Dobongsan', 'Dobong', 'Banghak', 'Chang-dong', 'Nokcheon', 'Wolgye', 'Kwangwoon Univ.', 'Seokgye', 'Sinimun', 'Hankuk Univ. of Foreign Studies', 'Hoegi', 'Cheongnyangni', 'Jegi-dong', 'Sinseol-dong', 'Dongmyo', 'Dongdaemun', 'Jongno 5(o)-ga', 'Jongno 3(sam)-ga', 'Jonggak', 'City Hall', 'Seoul Station', 'Namyeong', 'Yongsan', 'Noryangjin', 'Daebang', 'Singil', 'Yeongdeungpo', 'Sindorim', 'Guro', 'Guil', 'Gaebong', 'Oryu-dong', 'Onsu', 'Yeokgok', 'Sosa', 'Bucheon', 'Jung-dong', 'Songnae', 'Bugae', 'Bupyeong', 'Baegun', 'Dongam', 'Ganseok', 'Juan', 'Dohwa', 'Jemulpo', 'Dowon', 'Dongincheon', 'Incheon')\n",
            "Line2 ('Sindorim', 'Daerim', 'Guro Digital Complex', 'Sindaebang', 'Sillim', 'Bongcheon', 'Seoul Nat`l Univ.', 'Nakseongdae', 'Sadang', 'Bangbae', 'Seocho', 'Seoul Nat`l Univ. of Education', 'Gangnam', 'Yeoksam', 'Seolleung', 'Samseong', 'Sports Complex', 'Jamsilsaenae Station', 'Jamsil', 'Jamsillaru', 'Gangbyeon', 'Guui', 'Konkuk Univ.', 'Seongsu', 'Ttukseom', 'Hanyang Univ.', 'Wangsimni', 'Sangwangsimni', 'Sindang', 'Dongdaemun History  Culture Park', 'Euljiro 4(sa)-ga', 'Euljiro 3(sam)-ga', 'Euljiro 1(il)-ga', 'City Hall', 'Chungjeongno', 'Ahyeon', 'Ewha Womans Univ.', 'Sinchon', 'Hongik Univ.', 'Hapjeong', 'Dangsan', 'Yeongdeungpo-gu Office', 'Mullae')\n",
            "Line3 ('Daehwa', 'Juyeop', 'Jeongbalsan', 'Madu', 'Baekseok', 'Daegok', 'Hwajeong', 'Wondang', 'Wonheung', 'Samsong', 'Jichuk', 'Gupabal', 'Yeonsinnae', 'Bulgwang', 'Nokbeon', 'Hongje', 'Muakjae', 'Dongnimmun', 'Gyeongbokgung', 'Anguk', 'Jongno 3(sam)-ga', 'Euljiro 3(sam)-ga', 'Chungmuro', 'Dongguk Univ.', 'Yaksu', 'Geumho', 'Oksu', 'Apgujeong', 'Sinsa', 'Jamwon', 'Express Bus Terminal', 'Seoul Nat`l Univ. of Education', 'Nambu Bus Terminal', 'Yangjae', 'Maebong', 'Dogok', 'Daechi', 'Hangnyeoul', 'Daecheong', 'Irwon', 'Suseo', 'Garak Market', 'National Police Hospital', 'Ogeum')\n",
            "Line4 ('Danggogae', 'Sanggye', 'Nowon', 'Chang-dong', 'Ssangmun', 'Suyu', 'Mia', 'Miasamgeori', 'Gireum', 'Sungshin Women`s Univ.', 'Hansung Univ.', 'Hyehwa', 'Dongdaemun', 'Dongdaemun History  Culture Park', 'Chungmuro', 'Myeong-dong', 'Hoehyeon', 'Seoul Station', 'Sookmyung Women`s Univ.', 'Samgakji', 'Sinyongsan', 'Ichon', 'Dongjak', 'Chongshin Univ.', 'Sadang', 'Namtaeryeong', 'Seonbawi', 'Seoul Racecourse Park', 'Seoul Grand Park', 'Gwacheon', 'Government Complex Gwacheon', 'Indeogwon', 'Pyeongchon', 'Beomgye', 'Geumjeong', 'Sanbon', 'Surisan', 'Daeyami', 'Banwol', 'Sangnoksu', 'Hanyang Univ. at Ansan', 'Jungang', 'Gojan', 'Choji', 'Ansan', 'Singil oncheon', 'Jeongwang', 'Oido')\n"
          ],
          "name": "stdout"
        },
        {
          "output_type": "execute_result",
          "data": {
            "text/plain": [
              "{'Ahyeon': 'Line2',\n",
              " 'Anguk': 'Line3',\n",
              " 'Ansan': 'Line4',\n",
              " 'Apgujeong': 'Line3',\n",
              " 'Baegun': 'Line1',\n",
              " 'Baekseok': 'Line3',\n",
              " 'Bangbae': 'Line2',\n",
              " 'Banghak': 'Line1',\n",
              " 'Banwol': 'Line4',\n",
              " 'Beomgye': 'Line4',\n",
              " 'Bongcheon': 'Line2',\n",
              " 'Bosan': 'Line1',\n",
              " 'Bucheon': 'Line1',\n",
              " 'Bugae': 'Line1',\n",
              " 'Bulgwang': 'Line3',\n",
              " 'Bupyeong': 'Line1',\n",
              " 'Chang-dong': ['Line1', 'Line4'],\n",
              " 'Cheongnyangni': 'Line1',\n",
              " 'Choji': 'Line4',\n",
              " 'Chongshin Univ.': 'Line4',\n",
              " 'Chungjeongno': 'Line2',\n",
              " 'Chungmuro': ['Line3', 'Line4'],\n",
              " 'City Hall': ['Line1', 'Line2'],\n",
              " 'Daebang': 'Line1',\n",
              " 'Daecheong': 'Line3',\n",
              " 'Daechi': 'Line3',\n",
              " 'Daegok': 'Line3',\n",
              " 'Daehwa': 'Line3',\n",
              " 'Daerim': 'Line2',\n",
              " 'Daeyami': 'Line4',\n",
              " 'Danggogae': 'Line4',\n",
              " 'Dangsan': 'Line2',\n",
              " 'Deokgye': 'Line1',\n",
              " 'Deokjeong': 'Line1',\n",
              " 'Dobong': 'Line1',\n",
              " 'Dobongsan': 'Line1',\n",
              " 'Dogok': 'Line3',\n",
              " 'Dohwa': 'Line1',\n",
              " 'Dongam': 'Line1',\n",
              " 'Dongdaemun': ['Line1', 'Line4'],\n",
              " 'Dongdaemun History  Culture Park': ['Line2', 'Line4'],\n",
              " 'Dongducheon': 'Line1',\n",
              " 'Dongducheon jungang': 'Line1',\n",
              " 'Dongguk Univ.': 'Line3',\n",
              " 'Dongincheon': 'Line1',\n",
              " 'Dongjak': 'Line4',\n",
              " 'Dongmyo': 'Line1',\n",
              " 'Dongnimmun': 'Line3',\n",
              " 'Dowon': 'Line1',\n",
              " 'Euljiro 1(il)-ga': 'Line2',\n",
              " 'Euljiro 3(sam)-ga': ['Line2', 'Line3'],\n",
              " 'Euljiro 4(sa)-ga': 'Line2',\n",
              " 'Ewha Womans Univ.': 'Line2',\n",
              " 'Express Bus Terminal': 'Line3',\n",
              " 'Gaebong': 'Line1',\n",
              " 'Ganeung': 'Line1',\n",
              " 'Gangbyeon': 'Line2',\n",
              " 'Gangnam': 'Line2',\n",
              " 'Ganseok': 'Line1',\n",
              " 'Garak Market': 'Line3',\n",
              " 'Geumho': 'Line3',\n",
              " 'Geumjeong': 'Line4',\n",
              " 'Gireum': 'Line4',\n",
              " 'Gojan': 'Line4',\n",
              " 'Government Complex Gwacheon': 'Line4',\n",
              " 'Guil': 'Line1',\n",
              " 'Gupabal': 'Line3',\n",
              " 'Guro': 'Line1',\n",
              " 'Guro Digital Complex': 'Line2',\n",
              " 'Guui': 'Line2',\n",
              " 'Gwacheon': 'Line4',\n",
              " 'Gyeongbokgung': 'Line3',\n",
              " 'Hangnyeoul': 'Line3',\n",
              " 'Hankuk Univ. of Foreign Studies': 'Line1',\n",
              " 'Hansung Univ.': 'Line4',\n",
              " 'Hanyang Univ.': 'Line2',\n",
              " 'Hanyang Univ. at Ansan': 'Line4',\n",
              " 'Hapjeong': 'Line2',\n",
              " 'Hoegi': 'Line1',\n",
              " 'Hoehyeon': 'Line4',\n",
              " 'Hoeryong': 'Line1',\n",
              " 'Hongik Univ.': 'Line2',\n",
              " 'Hongje': 'Line3',\n",
              " 'Hwajeong': 'Line3',\n",
              " 'Hyehwa': 'Line4',\n",
              " 'Ichon': 'Line4',\n",
              " 'Incheon': 'Line1',\n",
              " 'Indeogwon': 'Line4',\n",
              " 'Irwon': 'Line3',\n",
              " 'Jamsil': 'Line2',\n",
              " 'Jamsillaru': 'Line2',\n",
              " 'Jamsilsaenae Station': 'Line2',\n",
              " 'Jamwon': 'Line3',\n",
              " 'Jegi-dong': 'Line1',\n",
              " 'Jemulpo': 'Line1',\n",
              " 'Jeongbalsan': 'Line3',\n",
              " 'Jeongwang': 'Line4',\n",
              " 'Jichuk': 'Line3',\n",
              " 'Jihaeng': 'Line1',\n",
              " 'Jonggak': 'Line1',\n",
              " 'Jongno 3(sam)-ga': ['Line1', 'Line3'],\n",
              " 'Jongno 5(o)-ga': 'Line1',\n",
              " 'Juan': 'Line1',\n",
              " 'Jung-dong': 'Line1',\n",
              " 'Jungang': 'Line4',\n",
              " 'Juyeop': 'Line3',\n",
              " 'Konkuk Univ.': 'Line2',\n",
              " 'Kwangwoon Univ.': 'Line1',\n",
              " 'Madu': 'Line3',\n",
              " 'Maebong': 'Line3',\n",
              " 'Mangwolsa': 'Line1',\n",
              " 'Mia': 'Line4',\n",
              " 'Miasamgeori': 'Line4',\n",
              " 'Muakjae': 'Line3',\n",
              " 'Mullae': 'Line2',\n",
              " 'Myeong-dong': 'Line4',\n",
              " 'Nakseongdae': 'Line2',\n",
              " 'Nambu Bus Terminal': 'Line3',\n",
              " 'Namtaeryeong': 'Line4',\n",
              " 'Namyeong': 'Line1',\n",
              " 'National Police Hospital': 'Line3',\n",
              " 'Nogyang': 'Line1',\n",
              " 'Nokbeon': 'Line3',\n",
              " 'Nokcheon': 'Line1',\n",
              " 'Noryangjin': 'Line1',\n",
              " 'Nowon': 'Line4',\n",
              " 'Ogeum': 'Line3',\n",
              " 'Oido': 'Line4',\n",
              " 'Oksu': 'Line3',\n",
              " 'Onsu': 'Line1',\n",
              " 'Oryu-dong': 'Line1',\n",
              " 'Pyeongchon': 'Line4',\n",
              " 'Sadang': ['Line2', 'Line4'],\n",
              " 'Samgakji': 'Line4',\n",
              " 'Samseong': 'Line2',\n",
              " 'Samsong': 'Line3',\n",
              " 'Sanbon': 'Line4',\n",
              " 'Sanggye': 'Line4',\n",
              " 'Sangnoksu': 'Line4',\n",
              " 'Sangwangsimni': 'Line2',\n",
              " 'Seocho': 'Line2',\n",
              " 'Seokgye': 'Line1',\n",
              " 'Seolleung': 'Line2',\n",
              " 'Seonbawi': 'Line4',\n",
              " 'Seongsu': 'Line2',\n",
              " 'Seoul Grand Park': 'Line4',\n",
              " 'Seoul Nat`l Univ.': 'Line2',\n",
              " 'Seoul Nat`l Univ. of Education': ['Line2', 'Line3'],\n",
              " 'Seoul Racecourse Park': 'Line4',\n",
              " 'Seoul Station': ['Line1', 'Line4'],\n",
              " 'Sillim': 'Line2',\n",
              " 'Sinchon': 'Line2',\n",
              " 'Sindaebang': 'Line2',\n",
              " 'Sindang': 'Line2',\n",
              " 'Sindorim': ['Line1', 'Line2'],\n",
              " 'Singil': 'Line1',\n",
              " 'Singil oncheon': 'Line4',\n",
              " 'Sinimun': 'Line1',\n",
              " 'Sinsa': 'Line3',\n",
              " 'Sinseol-dong': 'Line1',\n",
              " 'Sinyongsan': 'Line4',\n",
              " 'Songnae': 'Line1',\n",
              " 'Sookmyung Women`s Univ.': 'Line4',\n",
              " 'Sosa': 'Line1',\n",
              " 'Soyosan': 'Line1',\n",
              " 'Sports Complex': 'Line2',\n",
              " 'Ssangmun': 'Line4',\n",
              " 'Sungshin Women`s Univ.': 'Line4',\n",
              " 'Surisan': 'Line4',\n",
              " 'Suseo': 'Line3',\n",
              " 'Suyu': 'Line4',\n",
              " 'Ttukseom': 'Line2',\n",
              " 'Uijeongbu': 'Line1',\n",
              " 'Wangsimni': 'Line2',\n",
              " 'Wolgye': 'Line1',\n",
              " 'Wondang': 'Line3',\n",
              " 'Wonheung': 'Line3',\n",
              " 'Yaksu': 'Line3',\n",
              " 'Yangjae': 'Line3',\n",
              " 'Yangju': 'Line1',\n",
              " 'Yeokgok': 'Line1',\n",
              " 'Yeoksam': 'Line2',\n",
              " 'Yeongdeungpo': 'Line1',\n",
              " 'Yeongdeungpo-gu Office': 'Line2',\n",
              " 'Yeonsinnae': 'Line3',\n",
              " 'Yongsan': 'Line1'}"
            ]
          },
          "metadata": {
            "tags": []
          },
          "execution_count": 23
        }
      ]
    },
    {
      "cell_type": "code",
      "metadata": {
        "id": "sS0oV4yak5d3"
      },
      "source": [
        "stationDict\n",
        "\n",
        "# value  값에 list가 들어있음"
      ],
      "execution_count": null,
      "outputs": []
    },
    {
      "cell_type": "code",
      "metadata": {
        "id": "c72PKVzYt8IM"
      },
      "source": [
        "intersection=[[]]*6\n",
        "intersection[0]=['City Hall','Sindorim']\n",
        "intersection[1]=['Jongno 3(sam)-ga']\n",
        "intersection[2]=['Seoul Station','Chang-dong','Dongdaemun']\n",
        "intersection[3]=['Euljiro 2-ga','Seoul Nat`l Univ. of Education']\n",
        "intersection[4]=['Dongdaemun History  Culture Park','Sadang']\n",
        "intersection[5]=['Chungmuro']"
      ],
      "execution_count": 20,
      "outputs": []
    },
    {
      "cell_type": "code",
      "metadata": {
        "id": "NlRMRoLrl54o"
      },
      "source": [
        "def findPath(startName,goalName):\n",
        "    for i in range(1,5):\n",
        "        stationNumTemp='Line'+str(i)\n",
        "        if startName in subwayStation.get(stationNumTemp):\n",
        "            startLine.append(i)\n",
        "        if goalName in subwayStation.get(stationNumTemp):\n",
        "            endLine.append(i)\n",
        "     #debug\n",
        "    print(startLine[0])\n",
        "    print(endLine[0])\n",
        "    #if startLine[0] != endLine[0]:\n",
        "    # if len(startLine)==2:\n",
        "    #     if startLine[0],[endLine[0]]\n",
        "    startIdx=[1,2]\n",
        "    endIdx=[1,2]\n",
        "    if(len(startLine)==2):\n",
        "        startIdx[0]=subwayStation['Line'+str(startLine[0])].index(startName)\n",
        "        startIdx[1]=subwayStation['Line'+str(startLine[1])].index(goalName)\n",
        "    if(len(endLine)==2):\n",
        "        endIdx[0]=subwayStation['Line'+str(endLine[0])].index(goalName)\n",
        "        endIdx[1]=subwayStation['Line'+str(endLine[1])].index(goalName)\n",
        "    \n",
        "    # if subwayStation[startLine[0]].\n",
        "    if startLine[0]==1 and endLine[0]==2:\n",
        "        interIdx=subwayStation['Line1'].index(intersection[0][0])\n",
        "        if startIdx[0]<=interIdx:\n",
        "            path=subwayStation['Line1'][startIdx[0]:interIdx+1]\n",
        "        else:\n",
        "            path=subwayStation['Line1'][interIdx:startIdx[0]+1]\n",
        "        print(\"1호선에서 2호선까지 이제 갈아타자\")\n",
        "        print(path)\n",
        "            \n",
        "        interIdx2=subwayStation['Line2'].index(intersection[0][0])\n",
        "        if endIdx[0]<=interIdx2:\n",
        "            path2=subwayStation['Line2'][endIdx[0]:interIdx+1]\n",
        "        else:\n",
        "            path2=subwayStation['Line2'][interIdx:endIdx[0]+1]\n",
        "        print(path2)\n",
        "        print(f'{goalName} arrive')\n",
        "        \n",
        "        #subwayStation['Line1']-intersection[0]\n",
        "    # if startLine[0]==1 and endLine[0]==3:\n",
        "    #     subwayStation['Line1']\n"
      ],
      "execution_count": 34,
      "outputs": []
    },
    {
      "cell_type": "code",
      "metadata": {
        "colab": {
          "base_uri": "https://localhost:8080/"
        },
        "id": "O0bDpoIMmaE1",
        "outputId": "a1d4ca77-16b9-4ae0-8d2c-8c13bfbcda3c"
      },
      "source": [
        "startLine=[]\n",
        "endLine=[]\n",
        "findPath('Yangju','Bangbae')"
      ],
      "execution_count": 35,
      "outputs": [
        {
          "output_type": "stream",
          "text": [
            "1\n",
            "2\n",
            "1호선에서 2호선까지 이제 갈아타자\n",
            "('Dongducheon', 'Bosan', 'Dongducheon jungang', 'Jihaeng', 'Deokjeong', 'Deokgye', 'Yangju', 'Nogyang', 'Ganeung', 'Uijeongbu', 'Hoeryong', 'Mangwolsa', 'Dobongsan', 'Dobong', 'Banghak', 'Chang-dong', 'Nokcheon', 'Wolgye', 'Kwangwoon Univ.', 'Seokgye', 'Sinimun', 'Hankuk Univ. of Foreign Studies', 'Hoegi', 'Cheongnyangni', 'Jegi-dong', 'Sinseol-dong', 'Dongmyo', 'Dongdaemun', 'Jongno 5(o)-ga', 'Jongno 3(sam)-ga', 'Jonggak', 'City Hall')\n",
            "('Daerim', 'Guro Digital Complex', 'Sindaebang', 'Sillim', 'Bongcheon', 'Seoul Nat`l Univ.', 'Nakseongdae', 'Sadang', 'Bangbae', 'Seocho', 'Seoul Nat`l Univ. of Education', 'Gangnam', 'Yeoksam', 'Seolleung', 'Samseong', 'Sports Complex', 'Jamsilsaenae Station', 'Jamsil', 'Jamsillaru', 'Gangbyeon', 'Guui', 'Konkuk Univ.', 'Seongsu', 'Ttukseom', 'Hanyang Univ.', 'Wangsimni', 'Sangwangsimni', 'Sindang', 'Dongdaemun History  Culture Park', 'Euljiro 4(sa)-ga', 'Euljiro 3(sam)-ga', 'Euljiro 1(il)-ga')\n",
            "Bangbae arrive\n"
          ],
          "name": "stdout"
        }
      ]
    },
    {
      "cell_type": "code",
      "metadata": {
        "id": "47igZ_HrGLb-",
        "colab": {
          "base_uri": "https://localhost:8080/",
          "height": 269
        },
        "outputId": "5cf46777-44e9-4f43-e5ba-d4fc9c7f4b4e"
      },
      "source": [
        "import sys\n",
        "print('***************************')\n",
        "print('1.Display subway line information')\n",
        "print('2.Display subway station information')\n",
        "print('3.Exit')\n",
        "print('***************************')\n",
        "\n",
        "while True:\n",
        "    option=input(\" PLease choose one of the options(1-3):\")\n",
        "    if option=='1':\n",
        "        print('******************************')\n",
        "        print('Subway line information service')\n",
        "        print('*******************************')\n",
        "        while True:\n",
        "\n",
        "            num=input('please enter subway line number(1-4)')\n",
        "            if num=='1':\n",
        "              \n",
        "                print(subwayStation[0]) \n",
        "                break\n",
        "            elif num=='2':\n",
        "                print(subwayStation[1])\n",
        "                \n",
        "                break\n",
        "            elif num=='3':\n",
        "                print(subwayStation[2])\n",
        "                break\n",
        "            elif num=='4':\n",
        "                print(subwayStation[3])\n",
        "                break\n",
        "            else:\n",
        "                print(\"put valid station line number\")\n",
        "        \n",
        "    elif option=='2':\n",
        "       \n",
        "        #station name is invalid-> \n",
        "        while True:\n",
        "            station=input(\">>Please enter station name\")\n",
        "            count=0\n",
        "            if station in subwayStation[0]:\n",
        "                print(f'{station} is in line 1',end='')\n",
        "                count=count+1\n",
        "                if station in subwayStation[1]:\n",
        "                    print('and line 2',end='')\n",
        "                    count=count+1\n",
        "                if station in subwayStation[2]:\n",
        "                    print('and line 3',end='')\n",
        "                    count=count+1\n",
        "                if station in subwayStation[3]:\n",
        "                    print('and line 4')\n",
        "                    count=count+1\n",
        "                break\n",
        "            else: \n",
        "                if station in subwayStation[1]:\n",
        "                    print(f'{station} is in line 2',end='')\n",
        "                    count=count+1\n",
        "                \n",
        "                    if station in subwayStation[2]:\n",
        "                        print('and line 3',end='')\n",
        "                        count=count+1\n",
        "                    if station in subwayStation[3]:\n",
        "                        print('and line 4')\n",
        "                        count=count+1\n",
        "                    break\n",
        "                else:\n",
        "                    if station in subwayStation[2]:\n",
        "                        print(f'{station} is in line 3',end='')\n",
        "                        count=count+1\n",
        "                        if station in subwayStation[3]:\n",
        "                            print('and line 4',end='')\n",
        "                            count=count+1\n",
        "                            break\n",
        "                        break\n",
        "                    else:\n",
        "                        if station in subwayStation[3]:\n",
        "                            print(f'{station} is in line 4')\n",
        "                            count=count+1\n",
        "                            break\n",
        "                        else:\n",
        "                            print('please enter a valid subway station name')\n",
        "     \n",
        "        \n",
        "    elif option=='3':\n",
        "        sys.exit()\n",
        "        #for program exit\n",
        "        break\n",
        "    else:\n",
        "        print(\"requesting user input for option variable again\")\n",
        "        \n",
        "    \n",
        "    \n",
        "    \n",
        "\n"
      ],
      "execution_count": null,
      "outputs": [
        {
          "output_type": "stream",
          "text": [
            "***************************\n",
            "1.Display subway line information\n",
            "2.Display subway station information\n",
            "3.Exit\n",
            "***************************\n",
            " PLease choose one of the options(1-3):3\n"
          ],
          "name": "stdout"
        },
        {
          "output_type": "error",
          "ename": "SystemExit",
          "evalue": "ignored",
          "traceback": [
            "An exception has occurred, use %tb to see the full traceback.\n",
            "\u001b[0;31mSystemExit\u001b[0m\n"
          ]
        },
        {
          "output_type": "stream",
          "text": [
            "/usr/local/lib/python3.6/dist-packages/IPython/core/interactiveshell.py:2890: UserWarning: To exit: use 'exit', 'quit', or Ctrl-D.\n",
            "  warn(\"To exit: use 'exit', 'quit', or Ctrl-D.\", stacklevel=1)\n"
          ],
          "name": "stderr"
        }
      ]
    },
    {
      "cell_type": "code",
      "metadata": {
        "id": "6Mb7sF26H1U2"
      },
      "source": [
        "def dispSubwayLineInfo():\n",
        "  "
      ],
      "execution_count": null,
      "outputs": []
    }
  ]
}